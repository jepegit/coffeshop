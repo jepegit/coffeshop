{
 "cells": [
  {
   "cell_type": "markdown",
   "metadata": {},
   "source": [
    "# Pybamm\n",
    "This is a quick introduction to run a simulation with `Pybamm`.\n",
    "First, you have to install `pybamm` (note: needs python 3-3.7; 3.8 is not supported). This should be very simple and work with `pip` in the terminal:\n",
    "\n",
    "```bash\n",
    "$ pip install pybamm\n",
    "```\n"
   ]
  },
  {
   "cell_type": "code",
   "execution_count": null,
   "metadata": {},
   "outputs": [],
   "source": [
    "import pybamm"
   ]
  },
  {
   "cell_type": "markdown",
   "metadata": {},
   "source": [
    "Then we can start a very simple simulation (1C discharge), using the Doyle-Fuller-Newman model using the standard parameters provided in pybamm:"
   ]
  },
  {
   "cell_type": "code",
   "execution_count": null,
   "metadata": {},
   "outputs": [],
   "source": [
    "model = pybamm.lithium_ion.DFN() # Doyle-Fuller-Newman model\n",
    "sim = pybamm.Simulation(model)\n",
    "sim.solve()\n",
    "sim.plot()"
   ]
  }
 ],
 "metadata": {
  "kernelspec": {
   "display_name": "Python 3",
   "language": "python",
   "name": "python3"
  },
  "language_info": {
   "codemirror_mode": {
    "name": "ipython",
    "version": 3
   },
   "file_extension": ".py",
   "mimetype": "text/x-python",
   "name": "python",
   "nbconvert_exporter": "python",
   "pygments_lexer": "ipython3",
   "version": "3.7.6"
  }
 },
 "nbformat": 4,
 "nbformat_minor": 4
}
