{
 "cells": [
  {
   "cell_type": "markdown",
   "metadata": {},
   "source": [
    "# Calculation of volume constraints for Si-composite anodes\n",
    "Jan Petter Maehlen, IFE, 2016\n",
    "\n",
    "[EDIT 31.11.2018]: updated to Python3, removed names of electrodes\n",
    "\n",
    "Acknowledgements: Elkem and Research Council of Norway"
   ]
  },
  {
   "cell_type": "code",
   "execution_count": null,
   "metadata": {},
   "outputs": [],
   "source": [
    "# from IPython.display import display, Math, Latex\n",
    "import numpy as np\n",
    "import matplotlib.pyplot as plt\n",
    "%matplotlib inline"
   ]
  },
  {
   "cell_type": "markdown",
   "metadata": {},
   "source": [
    "## *Key parametres*\n",
    "* Porousity change\n",
    "* Volume expansion\n",
    "* Si fraction\n",
    "* Lithiation of Si\n",
    "* Lithiation of C [graphite]\n",
    "* Available volume"
   ]
  },
  {
   "cell_type": "markdown",
   "metadata": {},
   "source": [
    "# 1. Background and introduction\n",
    "* For a full cell using silicon-graphite composite as anode, areal loading of the anode needs to be merged with the areal loading of the cathode. Usually, the anode capacity should be higher than the cathode to prevent too low voltages vs. Li/Li+ during charging (lithium plating).\n",
    "\n",
    "* Silicon expands during lithiation (280% for full lithiation , ref. xx). For a workable cell, we need a electrode configuration that allows the expansion without compromising the porosity (needed for flow of electrolyte). "
   ]
  },
  {
   "cell_type": "markdown",
   "metadata": {},
   "source": [
    "# 2. Definitons and relations\n",
    "Our model anode is divided into 4 main parts:\n",
    "1. Silicon\n",
    "2. Graphite\n",
    "3. Non-active (dead) material\n",
    "4. Void\n",
    "\n",
    "One can in addition allow for some \"breathing\" of the anode during cycling (\"Room for expansion\"). Wether or not this is realistic depends on the battery type (assumption), as it could be that some space is needed for manufacturing purpuses (*e.g.* easy insertion of electrolyte after assembly)."
   ]
  },
  {
   "cell_type": "markdown",
   "metadata": {},
   "source": [
    "<img src=\"SiliconExpansion_fig_001.png\">"
   ]
  },
  {
   "cell_type": "markdown",
   "metadata": {},
   "source": [
    "**Fig. 1.** *Schematic view of Si-Graphite composite anode*"
   ]
  },
  {
   "cell_type": "markdown",
   "metadata": {},
   "source": [
    "### Lithiation fraction\n",
    "Defining a normalized lithiation parameter, *x*\n",
    "\n",
    "*x<sub>i</sub>: degree of lithiation for spieces i*\n",
    "\n",
    "Condition:\n",
    "\n",
    "$$x \\in [0,1] $$\n",
    "\n",
    "*i.e.*\n",
    "\n",
    "*x = 1* for a fully lithiated anode,\n",
    "\n",
    "*x = 0* for a fully delithiated anode."
   ]
  },
  {
   "cell_type": "markdown",
   "metadata": {},
   "source": [
    "<img src=\"SiliconExpanded_fig_001.png\">"
   ]
  },
  {
   "cell_type": "markdown",
   "metadata": {},
   "source": [
    "**Fig. 2.** *Schematic view of Si-Graphite composite anode, in delithiated (x = 0) and lithiated (x = n, 0 < n < 1) state*"
   ]
  },
  {
   "cell_type": "markdown",
   "metadata": {},
   "source": [
    "### :- Assumption set 1\n",
    "a.\n",
    "*x<sub>S</sub> = x<sub>G</sub> = x<sub>A</sub> = x* (degree of lithiation same for all spieces)\n",
    "\n",
    "or\n",
    "\n",
    "b.\n",
    "*x<sub>i</sub> = F<sub>i</sub>(f)* (lithiation of spieces *i* given by a pre-defined function)\n",
    "\n"
   ]
  },
  {
   "cell_type": "markdown",
   "metadata": {},
   "source": [
    "### Capacities\n",
    "*C<sub>i</sub>: capacity for spieces i in [mAh/g]*\n",
    "\n",
    "\n",
    "**maxC**<sub>i</sub>*: max capacity for spieces i in [mAh/g]*\n",
    "\n",
    "\n",
    "*C<sub>S,x</sub> = x **maxC**<sub>S</sub>*\n",
    "\n",
    "*C<sub>G,x</sub> = x **maxC**<sub>G</sub>*\n",
    "\n",
    "*C<sub>A,x</sub> = x (**maxC**<sub>S</sub> + **maxC**<sub>G</sub>)*"
   ]
  },
  {
   "cell_type": "markdown",
   "metadata": {},
   "source": [
    "### Volumes\n",
    "\n",
    "*V<sub>A</sub> = V<sub>S</sub> + V<sub>G</sub> + V<sub>D</sub> + V<sub>V</sub>*\n",
    "\n",
    "*V<sub>A,0</sub> = V<sub>A</sub>*\n",
    "\n",
    "*V<sub>A,n</sub> = V<sub>A</sub> + V<sub>E</sub> = eps V<sub>A</sub>*\n",
    "\n",
    "*eps = fractional room for expansion*                            [min(eps) = 1]\n",
    "\n",
    "*eps = 1 + V<sub>E</sub> /  V<sub>A</sub>*\n",
    "\n",
    "*V<sub>E</sub> = (eps - 1) V<sub>A</sub>*\n",
    "\n",
    "*V<sub>A</sub> = (1 - eps) V<sub>E</sub>*\n"
   ]
  },
  {
   "cell_type": "markdown",
   "metadata": {},
   "source": [
    "### Densities and fractions\n",
    "*f<sub>i</sub>: fraction of spieces i*\n",
    "\n",
    "*R<sub>i</sub>: density of spieces i*\n",
    "\n",
    "*M<sub>A</sub>: mass of electrode*\n"
   ]
  },
  {
   "cell_type": "markdown",
   "metadata": {},
   "source": [
    "*V<sub>i</sub> = (f<sub>i</sub> M<sub>A</sub>) / R<sub>i</sub>*"
   ]
  },
  {
   "cell_type": "markdown",
   "metadata": {},
   "source": [
    "### :- Assumption set 2\n",
    "*M<sub>A</sub> = 1* (normalized mass)"
   ]
  },
  {
   "cell_type": "markdown",
   "metadata": {},
   "source": [
    "*V<sub>i</sub> = f<sub>i</sub> / R<sub>i</sub>*"
   ]
  },
  {
   "cell_type": "markdown",
   "metadata": {},
   "source": [
    "### Expansion factors\n",
    "*e<sub>i</sub>: expansion coeff for spieces i*\n",
    "\n",
    "*V<sub>S,x</sub> = (1 + e<sub>S</sub> x) V<sub>S</sub>*\n",
    "\n",
    "*V<sub>G,x</sub> = (1 + e<sub>G</sub> x) V<sub>G</sub>*\n",
    "\n",
    "*V<sub>D,x</sub> = V<sub>D</sub>*\n",
    "\n",
    "*V<sub>A,x</sub> = eps V<sub>A</sub>*\n",
    "\n",
    "*V<sub>V,x</sub> = V<sub>A,x</sub> - [V<sub>S,x</sub> + V<sub>G,x</sub> + V<sub>D,x</sub>]*\n",
    "\n",
    "*V<sub>V,x</sub> = eps V<sub>A</sub> - [ (1 + e<sub>S</sub> x) V<sub>S</sub> + (1 + e<sub>G</sub> x) V<sub>G</sub> + V<sub>D</sub>]*"
   ]
  },
  {
   "cell_type": "markdown",
   "metadata": {},
   "source": [
    "### Porosity\n",
    "*P = V<sub>V</sub> / V<sub>A</sub>*\n",
    "\n",
    "*P<sub>x</sub> = V<sub>V,x</sub> / V<sub>A,x</sub>*\n",
    "\n"
   ]
  },
  {
   "cell_type": "markdown",
   "metadata": {},
   "source": [
    "Gives:\n",
    "\n",
    "\n",
    "*P<sub>x</sub> = (eps V<sub>A</sub> - [ (1 + e<sub>S</sub> x) V<sub>S</sub> + (1 + e<sub>G</sub> x) V<sub>G</sub> + V<sub>D</sub>]) / eps V<sub>A</sub>*"
   ]
  },
  {
   "cell_type": "markdown",
   "metadata": {},
   "source": [
    "# 3. Calculations"
   ]
  },
  {
   "cell_type": "markdown",
   "metadata": {},
   "source": [
    "## 3.1. Parametres\n",
    "### Coefficients"
   ]
  },
  {
   "cell_type": "code",
   "execution_count": null,
   "metadata": {},
   "outputs": [],
   "source": [
    "# Needed input prms\n",
    "\n",
    "# expansion coeffs\n",
    "expansion_coeff_si       = 2.8 \n",
    "expansion_coeff_graphite = 0.1\n",
    "expansion_coeff_dead     = 0.0\n",
    "\n",
    "# densities\n",
    "rho_si = 2.329           # g/ccm\n",
    "rho_graphite = 2.1       # g/ccm\n",
    "rho_dead = 1.8           # g/ccm\n",
    "\n",
    "# max capacities\n",
    "maxcap_si = 3579.0       # mAh/g\n",
    "maxcap_graphite = 372.0  # mAh/g\n",
    "maxcap_dead = 0.0        # mAh/g\n",
    "\n",
    "\n"
   ]
  },
  {
   "cell_type": "markdown",
   "metadata": {},
   "source": [
    "### Input parametres (defaults)"
   ]
  },
  {
   "cell_type": "code",
   "execution_count": null,
   "metadata": {
    "tags": []
   },
   "outputs": [],
   "source": [
    "mass_fraction_silicon  = 0.6\n",
    "mass_fraction_graphite = 0.3\n",
    "mass_fraction_dead     = 0.1\n",
    "\n",
    "radius = 0.5*1.5\n",
    "\n",
    "eps = 1.0\n",
    "\n",
    "# cut-off capacities\n",
    "max_cutoff_cap_si = 3579.0       # mAh/g\n",
    "max_cutoff_cap_graphite = 372.0  # mAh/g\n",
    "max_cutoff_cap_dead = 0.0        # mAh/g\n",
    "\n",
    "porosity = 0.5 # initial porosity\n",
    "porosity_limit = 0.0 # final limit for porosity"
   ]
  },
  {
   "cell_type": "markdown",
   "metadata": {},
   "source": [
    "## 3.2. Functions"
   ]
  },
  {
   "cell_type": "code",
   "execution_count": null,
   "metadata": {},
   "outputs": [],
   "source": [
    "def find_area(radius):\n",
    "    return np.pi*radius*radius\n"
   ]
  },
  {
   "cell_type": "code",
   "execution_count": null,
   "metadata": {},
   "outputs": [],
   "source": [
    "def density_all(densities, mass_fractions, porosity = 0.0):\n",
    "    \n",
    "    Total_mass = np.sum(mass_fractions)\n",
    "    \n",
    "    Total_volume = 0.0\n",
    "    for d,m in zip(densities, mass_fractions):\n",
    "        #print \"density: %f\\nfraction: %f\" % (d,m)\n",
    "        Total_volume += m/d\n",
    "    try:\n",
    "        Total_volume = Total_volume/(1-porosity)\n",
    "    except ZeroDivisionError:\n",
    "        print(\"ERROR! You have a porosity of 1.0 (meaning your electrode contains nothing)\")\n",
    "        return None\n",
    "    \n",
    "    Density = Total_mass/Total_volume\n",
    "    #print \"Density: %f\" % (Density)\n",
    "    return Density"
   ]
  },
  {
   "cell_type": "code",
   "execution_count": null,
   "metadata": {},
   "outputs": [],
   "source": [
    "def porosity_from_densities(d_measured,d_theory = 1.0):\n",
    "    return (1-(d_measured/d_theory))\n"
   ]
  },
  {
   "cell_type": "code",
   "execution_count": null,
   "metadata": {
    "collapsed": false,
    "jupyter": {
     "outputs_hidden": false
    }
   },
   "outputs": [],
   "source": [
    "a = find_area(radius)\n",
    "print(f\"Area: {a} cm^2\");"
   ]
  },
  {
   "cell_type": "code",
   "execution_count": null,
   "metadata": {
    "collapsed": false,
    "jupyter": {
     "outputs_hidden": false
    }
   },
   "outputs": [],
   "source": [
    "def createX(max_cutoff_caps, max_caps, limits = [0.0, 1.0], bits = 100, option = None):\n",
    "    \"\"\"This function will (when finnished) make a four x-arrays with adjusted x-values depending\n",
    "    on type of material and maximum cutoff capacities. By ysing this to make the lithiation fractions,\n",
    "    iterations can be performed in the full x-range (the function takes care of limits)\n",
    "    \n",
    "    i.e.\n",
    "    X = createX(max_cutoff_caps)\n",
    "    for x in X:\n",
    "        V = volume_vs_x(x, volumes, expansion_coeffs, eps)\n",
    "    \n",
    "    returns numpy array X = [[x1_0,x2_0,x3_0],[x1_1,x2_1,x3_1] ...] where X contains 'bits' elements (linspace)\"\"\"\n",
    "    \n",
    "    _x1_max = x_cutoff(max_cutoff_caps[0],max_caps[0])\n",
    "    _x2_max = x_cutoff(max_cutoff_caps[1],max_caps[1])\n",
    "    _x3_max = x_cutoff(max_cutoff_caps[2],max_caps[2])\n",
    "    \n",
    "\n",
    "    _x_max = [_x1_max,_x2_max,_x3_max]\n",
    "    _x = np.linspace(limits[0], limits[1], bits)\n",
    "    \n",
    "    X = []\n",
    "    \n",
    "    for x in _x:\n",
    "        b = []\n",
    "        for x_max in _x_max:\n",
    "            if x<x_max:\n",
    "                b.append(x)\n",
    "            else:\n",
    "                b.append(x_max)\n",
    "        X.append(b)\n",
    "\n",
    "    X = np.array(X)\n",
    "    if option == \"scalingSi\":\n",
    "        X[:,0] = np.linspace(limits[0], _x1_max, bits)\n",
    "    \n",
    "            \n",
    "    return np.array(X)\n"
   ]
  },
  {
   "cell_type": "code",
   "execution_count": null,
   "metadata": {},
   "outputs": [],
   "source": [
    "def capacity(x,c_max):\n",
    "    return x*c_max"
   ]
  },
  {
   "cell_type": "code",
   "execution_count": null,
   "metadata": {},
   "outputs": [],
   "source": [
    "def capacity_all(x,max_caps, volumes, densities):\n",
    "    \"\"\"returns the total capacity for the electrode in mAh/g(tot)\"\"\"\n",
    "    try:\n",
    "        _x = x\n",
    "        x_s,x_g,x_d = _x\n",
    "    except TypeError:\n",
    "        print(\"capacity_all: x is not list - setting same value for all materials\")\n",
    "        _x = [x,x,x]\n",
    "        \n",
    "    cap_all = 0.0\n",
    "    for x_i,mc_i,v_i,d_i in zip(_x,max_caps,volumes,densities):\n",
    "        cap_all += x_i*mc_i*v_i*d_i\n",
    "    return cap_all\n",
    "\n",
    "    "
   ]
  },
  {
   "cell_type": "code",
   "execution_count": null,
   "metadata": {},
   "outputs": [],
   "source": [
    "def x_cutoff_total_even(c,max_caps):\n",
    "    print(\"not implemented yet\")\n",
    "    return None"
   ]
  },
  {
   "cell_type": "code",
   "execution_count": null,
   "metadata": {},
   "outputs": [],
   "source": [
    "def x_cutoff(c,c_max):\n",
    "    try:\n",
    "        cutoff = c/c_max\n",
    "    except ZeroDivisionError:\n",
    "        cutoff = 0.0\n",
    "    return cutoff"
   ]
  },
  {
   "cell_type": "code",
   "execution_count": null,
   "metadata": {
    "collapsed": false,
    "jupyter": {
     "outputs_hidden": false
    }
   },
   "outputs": [],
   "source": [
    "def volume_from_fR(f,R):\n",
    "    return f/R\n",
    "    "
   ]
  },
  {
   "cell_type": "code",
   "execution_count": null,
   "metadata": {},
   "outputs": [],
   "source": [
    "def volume_vs_x(x, volumes, expansion_coeffs, eps):\n",
    "    # List order = [Si,Graphite,Dead,Void]\n",
    "    try:\n",
    "        x_s,x_g,x_d = x\n",
    "    except TypeError:\n",
    "        print(\"volume_vs_x : x is not list - setting same value for all materials\")\n",
    "        x_s = x\n",
    "        x_g = x\n",
    "        x_d = x\n",
    "        \n",
    "    e_s,e_g,e_d = expansion_coeffs\n",
    "    V_s,V_g,V_d,V_v = volumes\n",
    "    \n",
    "    V_a_x = eps*np.sum(volumes)\n",
    "\n",
    "    V_s_x = (1+e_s*x_s)*V_s\n",
    "    V_g_x = (1+e_g*x_g)*V_g\n",
    "    V_d_x = (1+e_d*x_d)*V_d\n",
    "    V_v_x = V_a_x - np.sum([V_s_x,V_g_x,V_d_x])\n",
    "    \n",
    "    return [V_s_x, V_g_x, V_d_x, V_v_x]"
   ]
  },
  {
   "cell_type": "code",
   "execution_count": null,
   "metadata": {},
   "outputs": [],
   "source": [
    "def pore_volume_from_porosity(porosity, volumes):\n",
    "    V_materials = np.sum(volumes[0:3])\n",
    "    V_void      = porosity*V_materials / (1-porosity)\n",
    "    return V_void"
   ]
  },
  {
   "cell_type": "code",
   "execution_count": null,
   "metadata": {},
   "outputs": [],
   "source": [
    "def porosity_from_volumes(volumes):\n",
    "    # P = V_void / V_anode\n",
    "    V_void  = volumes[3]\n",
    "    V_anode = np.sum(volumes)\n",
    "    return V_void / V_anode"
   ]
  },
  {
   "cell_type": "code",
   "execution_count": null,
   "metadata": {},
   "outputs": [],
   "source": [
    "def calc_loading(capacity,density,thickness):\n",
    "    return capacity*density*thickness"
   ]
  },
  {
   "cell_type": "code",
   "execution_count": null,
   "metadata": {},
   "outputs": [],
   "source": [
    "def calc_needed_thickness(target_capacity, target_loading, density):\n",
    "    return target_loading/(target_capacity*density)"
   ]
  },
  {
   "cell_type": "code",
   "execution_count": null,
   "metadata": {},
   "outputs": [],
   "source": [
    "# defining a convinence-constants for converting to-from cm - micron, g - mg\n",
    "to_micron = 10000.0\n",
    "to_mg     = 1000.0"
   ]
  },
  {
   "cell_type": "markdown",
   "metadata": {},
   "source": [
    "## 3.3. Setup\n",
    "Putting parametres in lists to reduce typing (and possible implement numpy arrays later for speed)"
   ]
  },
  {
   "cell_type": "code",
   "execution_count": null,
   "metadata": {
    "collapsed": false,
    "jupyter": {
     "outputs_hidden": false
    }
   },
   "outputs": [],
   "source": [
    "# Silicon, Graphite, Dead, [void]\n",
    "\n",
    "mass_fractions   = [mass_fraction_silicon, mass_fraction_graphite,mass_fraction_dead]\n",
    "expansion_coeffs = [expansion_coeff_si, expansion_coeff_graphite, expansion_coeff_dead]\n",
    "densities        = [rho_si, rho_graphite, rho_dead]\n",
    "max_caps         = [maxcap_si, maxcap_graphite, maxcap_dead]\n",
    "max_cutoff_caps  = [max_cutoff_cap_si, max_cutoff_cap_graphite, max_cutoff_cap_dead]\n"
   ]
  },
  {
   "cell_type": "code",
   "execution_count": null,
   "metadata": {
    "collapsed": false,
    "jupyter": {
     "outputs_hidden": false
    }
   },
   "outputs": [],
   "source": [
    "assert round(np.sum(mass_fractions),2) == 1.00"
   ]
  },
  {
   "cell_type": "markdown",
   "metadata": {},
   "source": [
    "## 3.4. Simple calculations and tests"
   ]
  },
  {
   "cell_type": "markdown",
   "metadata": {},
   "source": [
    "### Simple calculations for thickness estimations"
   ]
  },
  {
   "cell_type": "code",
   "execution_count": null,
   "metadata": {
    "collapsed": false,
    "jupyter": {
     "outputs_hidden": false
    },
    "scrolled": true
   },
   "outputs": [],
   "source": [
    "# calculating needed thickness to match given demand on loading\n",
    "d = density_all(densities, mass_fractions, porosity=0.5)\n",
    "c = 522.0 # mAh/g(tot)\n",
    "t = 20.0 # micron\n",
    "t2 = t/to_micron\n",
    "\n",
    "print(90*\"-\")\n",
    "print(\"Calculating loading based on c: %4.1f mAh/g t: %4.1f micron d: %5.3f g/ccm\" % (c,t,d))\n",
    "print(f\"Loading: {calc_loading(c,d,t2)} mAh/cm2\")\n",
    "\n",
    "l = 2.5\n",
    "print (90*\"-\")\n",
    "print(\"Calculating needed thickness based on c: %4.1f mAh/g l: %3.2f mAh/cm2 d: %5.3f g/ccm\" % (c,l,d))\n",
    "print(f\"Thickness: {calc_needed_thickness(c,l,d)*to_micron} micron\")\n",
    "print(90*\"-\")"
   ]
  },
  {
   "cell_type": "markdown",
   "metadata": {},
   "source": [
    "### Simple calculations of porosity"
   ]
  },
  {
   "cell_type": "code",
   "execution_count": null,
   "metadata": {
    "collapsed": false,
    "jupyter": {
     "outputs_hidden": false
    }
   },
   "outputs": [],
   "source": [
    "# calculating the theoretical density\n",
    "d_theory   = density_all(densities, mass_fractions, porosity=0.0)\n",
    "\n",
    "\n",
    "# finding the measured density from mass, radius, and thickness\n",
    "mass      = 2.9      # mg\n",
    "radius    = 0.5*1.5  # cm (diameter of electrode is 1.5 cm)\n",
    "thickness = 20.0     # micron\n",
    "\n",
    "m2   = mass/to_mg\n",
    "area = find_area(radius)\n",
    "t2   = thickness/to_micron\n",
    "\n",
    "d_measured= m2/(area*t2)\n",
    "\n",
    "# calculating the porosity\n",
    "p_calculated = porosity_from_densities(d_measured,d_theory) # = (1-d_measured/d_theory)\n",
    "\n",
    "# reporting\n",
    "txt = \"\\nCalculating porosity of electrodes based on measured density\"\n",
    "print(txt.upper())\n",
    "print(90*\"-\")\n",
    "print(\"Theoretical density: %5.3f g/ccm\" % (d_theory,))\n",
    "print(\"Measured density:    %5.3f g/ccm\" % (d_measured,))\n",
    "print(\"Calculated porosity: %5.3f\" % (p_calculated,))\n",
    "print(90*\"-\")\n",
    "\n",
    "# check\n",
    "assert round(d_measured,3) == round(density_all(densities, mass_fractions, porosity=p_calculated),3)"
   ]
  },
  {
   "cell_type": "markdown",
   "metadata": {},
   "source": [
    "### Simple calculation of density"
   ]
  },
  {
   "cell_type": "code",
   "execution_count": null,
   "metadata": {
    "collapsed": false,
    "jupyter": {
     "outputs_hidden": false
    }
   },
   "outputs": [],
   "source": [
    "# finding density for \"dead\" material\n",
    "\n",
    "def molecular_mass(chemical_formula_dict):\n",
    "    # Molecular mass dict\n",
    "    mm = dict()\n",
    "    mm[\"K\"] = 39.098\n",
    "    mm[\"O\"] = 15.999\n",
    "    mm[\"H\"] = 1.008\n",
    "    mm[\"C\"] = 12.011\n",
    "\n",
    "    molMass = 0.0\n",
    "    for chemical, number in chemical_formula_dict.items():\n",
    "        _molMass = mm[chemical.upper()]\n",
    "        molMass += (number * _molMass)\n",
    "        txt = \"Chem: %2s - Number: %3.2f - Molecular mass: %6.3f g/mol\" % (chemical, float(number), _molMass)\n",
    "        print(txt)\n",
    "    txt = \"  ->  %6.3f g/mol\" % (molMass)\n",
    "    print(txt)\n",
    "    return molMass\n",
    "\n",
    "# ---defining chemicals---------------------------------------------\n",
    "citric_acid_cf_dict = dict()\n",
    "citric_acid_cf_dict[\"C\"] = 6\n",
    "citric_acid_cf_dict[\"H\"] = 8\n",
    "citric_acid_cf_dict[\"O\"] = 7\n",
    "\n",
    "potassium_hydroxide_cf_dict = dict()\n",
    "potassium_hydroxide_cf_dict[\"K\"] = 1\n",
    "potassium_hydroxide_cf_dict[\"H\"] = 1\n",
    "potassium_hydroxide_cf_dict[\"O\"] = 1\n",
    "\n",
    "mMass_citric_acid = molecular_mass(citric_acid_cf_dict)\n",
    "mMass_potassium_hydroxide = molecular_mass(potassium_hydroxide_cf_dict)\n",
    "\n",
    "# ---prms----------------------------------------------------------\n",
    "d_cmc            = 1.6\n",
    "d_cb             = 2.1\n",
    "\n",
    "d_KOH            = 2.12\n",
    "d_citric_acid    = 1.66\n",
    "\n",
    "_molLitre_KOH     = 0.173 # given by mixing the buffer\n",
    "_molLitre_acid    = 0.074 # given by mixing the buffer\n",
    "\n",
    "# ---input---------------------------------------------------------\n",
    "f_cmc              =  5.0\n",
    "f_cb               =  5.0\n",
    "f_buffer_chemicals = 13.0\n",
    "\n",
    "# ---calc----------------------------------------------------------\n",
    "\n",
    "_f_KOH            = _molLitre_KOH * mMass_potassium_hydroxide\n",
    "_f_citric_acid    = _molLitre_acid * mMass_citric_acid\n",
    "_f_buffer         = _f_KOH + _f_citric_acid\n",
    "\n",
    "f_KOH = _f_KOH / _f_buffer\n",
    "f_citric_acid = _f_citric_acid / _f_buffer\n",
    "\n",
    "d_buffer_chemicals = density_all([d_KOH, d_citric_acid], [f_KOH, f_citric_acid], porosity = 0.0)\n",
    "\n",
    "_f_all_sum  = f_cmc + f_cb + f_buffer_chemicals\n",
    "_f_all   = [f_cmc/_f_all_sum, f_cb/_f_all_sum, f_buffer_chemicals/_f_all_sum]\n",
    "_d_all  = [d_cmc, d_cb, d_buffer_chemicals]\n",
    "\n",
    "d_dead  = density_all(_d_all, _f_all, porosity = 0.0)\n",
    "print( 90*\"-\")\n",
    "print( \"Density of 'dead' material: %6.3f g/ccm\" % (d_dead))\n",
    "print( 90*\"-\")\n",
    "\n",
    "\n",
    "\n",
    "\n"
   ]
  },
  {
   "cell_type": "markdown",
   "metadata": {},
   "source": [
    "### Simple calculation of porosity and needed loading for \"is030\""
   ]
  },
  {
   "cell_type": "code",
   "execution_count": null,
   "metadata": {
    "collapsed": false,
    "jupyter": {
     "outputs_hidden": false
    }
   },
   "outputs": [],
   "source": [
    "# electrode: 20151113_is030_10_cc\n",
    "# finding porosity\n",
    "mass_is030_10      = 1.271 # mg\n",
    "thickness_is030_10 = 10.0 # micron\n",
    "radius             = 0.5*1.5  # cm (diameter of electrode is 1.5 cm)\n",
    "\n",
    "mass_is030_10      = mass_is030_10/to_mg\n",
    "area_is030_10      = find_area(radius)\n",
    "thickness_is030_10 = thickness_is030_10/to_micron\n",
    "\n",
    "f_silicon  = 0.522\n",
    "f_graphite = 0.13\n",
    "f_dead     = 1.0 - (f_silicon + f_graphite)\n",
    "mass_fractions_is030_10 = [f_silicon,f_graphite,f_dead]\n",
    "\n",
    "d_measured_is030_10 = mass_is030_10/(area_is030_10*thickness_is030_10)\n",
    "d_theory_is030_10   = density_all(densities, mass_fractions_is030_10, porosity=0.0)\n",
    "\n",
    "# calculating the porosity\n",
    "p_calculated = porosity_from_densities(d_measured_is030_10,d_theory_is030_10)\n",
    "\n",
    "# calculating needed thickness to match given demand on loading\n",
    "d = density_all(densities, mass_fractions_is030_10, porosity=p_calculated)\n",
    "c = f_silicon*1000.0 # mAh/g(tot)\n",
    "l = 2.5   # mAh/cm2\n",
    "\n",
    "t = calc_needed_thickness(c,l,d)*to_micron\n",
    "\n",
    "# reporting\n",
    "print( \"\\nCalculating porosity of electrodes based on measured density\".upper())\n",
    "print( 90*\"-\")\n",
    "print( \"Name:                is030_10\")\n",
    "print( 40*\"-\")\n",
    "print( \"Mass of electrode:   %5.3f mg\" % (mass_is030_10,))\n",
    "print( \"Thickness:           %5.3f mg\" % (thickness_is030_10,))\n",
    "print( \"Area:                %5.3f mg\" % (area_is030_10,))\n",
    "print( \"Fraction Si:         %5.3f mg\" % (f_silicon,))\n",
    "print( \"Fraction Graphite:   %5.3f mg\" % (f_graphite,))\n",
    "print( \"Fraction Dead:       %5.3f mg\" % (f_dead,))\n",
    "print( 40*\"-\")\n",
    "print( \"Theoretical density: %5.3f g/ccm\" % (d_theory_is030_10,))\n",
    "print( \"Measured density:    %5.3f g/ccm\" % (d_measured_is030_10,))\n",
    "print( \"Calculated porosity: %5.3f\" % (p_calculated,))\n",
    "print( 90*\"-\")\n",
    "print()\n",
    "print( \"\\nCalculating needed thickness for given porosity etc.\".upper())\n",
    "print( 90*\"-\")\n",
    "print( \"Total capacity:      %5.3f mg\" % (c,))\n",
    "print( \"Target loading:      %5.3f mAh/cm2\" % (l,))\n",
    "print( \"Calc. thickness:     %5.3f mg\" % (t,))\n",
    "print( 90*\"-\")\n"
   ]
  },
  {
   "cell_type": "markdown",
   "metadata": {},
   "source": [
    "### Visalisation\n",
    "An intersting visualisation is how the thickness requirment changes as a function of the capacity cut-off."
   ]
  },
  {
   "cell_type": "code",
   "execution_count": null,
   "metadata": {
    "collapsed": false,
    "jupyter": {
     "outputs_hidden": false
    }
   },
   "outputs": [],
   "source": [
    "c0 = 320.0  # mAh/g(Si)\n",
    "c1 = 3600.0 # mAh/g(Si)\n",
    "l  = 2.5    # mAh/cm2\n",
    "\n",
    "capacities = np.linspace(c0, c1, 100)\n",
    "porosities = np.linspace(0.2,0.8,7) # could equally well have used a \"hard-coded\" list here\n",
    "\n",
    "fname =r\"C:\\Scripting\\MyFiles\\notebooks\\ElectrodeCalculations\\SiliconExpansion\\LvsC.png\"\n",
    "fname_Scaled =r\"C:\\Scripting\\MyFiles\\notebooks\\ElectrodeCalculations\\SiliconExpansion\\LvsC_scaled.png\"\n",
    "\n",
    "_d = [density_all(densities, mass_fractions_is030_10, porosity=p) for p in porosities]\n",
    "\n",
    "for d,p in zip(_d, porosities): \n",
    "    t = []\n",
    "    for c in capacities:\n",
    "        t.append(calc_needed_thickness(f_silicon*c,l,d)*to_micron)\n",
    "    \n",
    "    plt.plot(capacities,t, label = \"p = %s\" % p)\n",
    "plt.xlabel(\"Capacity cut-off (mAh/g(Si))\")\n",
    "plt.ylabel(\"Thickness (micron)\")\n",
    "txt = \"Loading:   %3.2f mAh/cm2\\n\" % (l)\n",
    "txt+= \"Mass%% Si: %3.2f\\n\" % (f_silicon)\n",
    "txt+= \"Mass%% G : %3.2f\" % (f_graphite)\n",
    "\n",
    "plt.grid()\n",
    "plt.legend()\n",
    "\n",
    "# creating and saving a \"zoomed\" figure\n",
    "plt.xlim(1000, 2000)\n",
    "plt.ylim(0, 150)\n",
    "plt.savefig(fname_Scaled, dpi=500)\n",
    "\n",
    "# creating, saving, and showing figure\n",
    "plt.axhline(y = 100, linestyle = \"--\")\n",
    "plt.axvline(x = 372, linestyle = \"--\")\n",
    "plt.text(1000,200,txt,style='italic')\n",
    "plt.xlim(300, 3620)\n",
    "plt.ylim(0, 350)\n",
    "plt.savefig(fname, dpi=500)\n",
    "\n",
    "print( \"files saved to\",)\n",
    "print( fname)\n",
    "print( fname_Scaled)\n",
    "    \n"
   ]
  },
  {
   "cell_type": "markdown",
   "metadata": {},
   "source": [
    "### Fraction tests"
   ]
  },
  {
   "cell_type": "code",
   "execution_count": null,
   "metadata": {
    "collapsed": false,
    "jupyter": {
     "outputs_hidden": false
    }
   },
   "outputs": [],
   "source": [
    "# Testing X-generation\n",
    "cutoff_Si = 1000.0\n",
    "max_cutoff_caps_test = [cutoff_Si, max_cutoff_cap_graphite, max_cutoff_cap_dead]\n",
    "print( \"cut-offs:\", max_cutoff_caps_test)\n",
    "x =  createX(max_cutoff_caps_test, max_caps, limits = [0.0, 1.0], bits = 100, option=None)\n",
    "\n",
    "\n",
    "# plotting results\n",
    "x_Si = x[:,0]\n",
    "x_Graphite = x[:,1]\n",
    "x_Void = x[:,2]\n",
    "\n",
    "# individual plots\n",
    "plt.figure()\n",
    "plt.subplot(131)\n",
    "plt.plot(x_Si, label = \"Si\")\n",
    "plt.legend()\n",
    "plt.subplot(132)\n",
    "plt.plot(x_Graphite, label = \"G\")\n",
    "plt.legend()\n",
    "plt.subplot(133)\n",
    "plt.plot(x_Void, label = \"V\")\n",
    "plt.legend()\n",
    "\n",
    "# same axes\n",
    "plt.figure()\n",
    "ax = plt.subplot(111)\n",
    "ax.plot(x_Si, label = \"Si\")\n",
    "ax.plot(x_Graphite, label = \"Graphite\")\n",
    "ax.plot(x_Void, label = \"Void\")\n",
    "plt.xlabel(\"bit\")\n",
    "plt.ylabel(\"lithiation fraction\")\n",
    "plt.ylim([-0.1,1.1])\n",
    "plt.legend()\n",
    "print()"
   ]
  },
  {
   "cell_type": "code",
   "execution_count": null,
   "metadata": {
    "collapsed": false,
    "jupyter": {
     "outputs_hidden": false
    }
   },
   "outputs": [],
   "source": [
    "# Testing X-generation\n",
    "# option scalingSi\n",
    "\n",
    "cutoff_Si = 1000.0\n",
    "max_cutoff_caps_test = [cutoff_Si, max_cutoff_cap_graphite, max_cutoff_cap_dead]\n",
    "print( \"cut-offs:\", max_cutoff_caps_test)\n",
    "x =  createX(max_cutoff_caps_test, max_caps, limits = [0.0, 1.0], bits = 100, option=\"scalingSi\")\n",
    "\n",
    "\n",
    "# plotting results\n",
    "x_Si = x[:,0]\n",
    "x_Graphite = x[:,1]\n",
    "x_Void = x[:,2]\n",
    "\n",
    "plt.figure()\n",
    "plt.subplot(131)\n",
    "plt.plot(x_Si, label = \"Si\")\n",
    "plt.legend()\n",
    "plt.subplot(132)\n",
    "plt.plot(x_Graphite, label = \"G\")\n",
    "plt.legend()\n",
    "plt.subplot(133)\n",
    "plt.plot(x_Void, label = \"V\")\n",
    "plt.legend()\n",
    "\n",
    "\n",
    "# same axes\n",
    "plt.figure()\n",
    "ax = plt.subplot(111)\n",
    "ax.plot(x_Si, label = \"Si\")\n",
    "ax.plot(x_Graphite, label = \"Graphite\")\n",
    "ax.plot(x_Void, label = \"Void\")\n",
    "plt.xlabel(\"bit\")\n",
    "plt.ylabel(\"lithiation fraction\")\n",
    "plt.ylim([-0.1,1.1])\n",
    "plt.legend()\n",
    "print"
   ]
  },
  {
   "cell_type": "code",
   "execution_count": null,
   "metadata": {
    "collapsed": false,
    "jupyter": {
     "outputs_hidden": false
    }
   },
   "outputs": [],
   "source": [
    "# checking what the cut-off in x will be for given cut-off in Si capacity\n",
    "c_silicon_cutoff = 1000.0\n",
    "x_silicon_cutoff = x_cutoff(c_silicon_cutoff,maxcap_si)\n",
    "print( \"cut-off for %f mAh/g(Si) is %f\" % (c_silicon_cutoff, x_silicon_cutoff))"
   ]
  },
  {
   "cell_type": "markdown",
   "metadata": {},
   "source": [
    "## 4. Simulations of anode expansion"
   ]
  },
  {
   "cell_type": "markdown",
   "metadata": {},
   "source": [
    "### Initialisation"
   ]
  },
  {
   "cell_type": "code",
   "execution_count": null,
   "metadata": {},
   "outputs": [],
   "source": [
    "porosity = 0.5 # initial porosity\n",
    "porosity_limit = 0.0 # final limit for porosity"
   ]
  },
  {
   "cell_type": "code",
   "execution_count": null,
   "metadata": {
    "collapsed": false,
    "jupyter": {
     "outputs_hidden": false
    }
   },
   "outputs": [],
   "source": [
    "# need to make the initial volume list\n",
    "volume_silicon_0 = volume_from_fR(mass_fraction_silicon,rho_si)\n",
    "volume_graphite_0 = volume_from_fR(mass_fraction_graphite,rho_graphite)\n",
    "volume_dead_0 = volume_from_fR(mass_fraction_dead,rho_dead)\n",
    "volume_void_0 = np.NAN # not really needed"
   ]
  },
  {
   "cell_type": "code",
   "execution_count": null,
   "metadata": {
    "collapsed": false,
    "jupyter": {
     "outputs_hidden": false
    }
   },
   "outputs": [],
   "source": [
    "# calculating the initial pore volume (void volume)\n",
    "volume_void_0 = pore_volume_from_porosity(porosity, [volume_silicon_0,volume_graphite_0, volume_dead_0])\n",
    "volumes = [volume_silicon_0,volume_graphite_0,volume_dead_0, volume_void_0]"
   ]
  },
  {
   "cell_type": "code",
   "execution_count": null,
   "metadata": {
    "collapsed": false,
    "jupyter": {
     "outputs_hidden": false
    }
   },
   "outputs": [],
   "source": [
    "print( \"volumes:\", volumes)\n",
    "print( \"sum of volumes (anode volume):\", np.sum(volumes))\n",
    "print( \"Input porosity: %f\\nCalculated: %f\" % (porosity,porosity_from_volumes(volumes)))"
   ]
  },
  {
   "cell_type": "code",
   "execution_count": null,
   "metadata": {
    "collapsed": false,
    "jupyter": {
     "outputs_hidden": false
    },
    "scrolled": true
   },
   "outputs": [],
   "source": [
    "assert round(porosity,2) == round(porosity_from_volumes(volumes),2)"
   ]
  },
  {
   "cell_type": "markdown",
   "metadata": {},
   "source": [
    "### Simple test with two x-values (empty and filled)"
   ]
  },
  {
   "cell_type": "code",
   "execution_count": null,
   "metadata": {
    "collapsed": false,
    "jupyter": {
     "outputs_hidden": false
    }
   },
   "outputs": [],
   "source": [
    "cutoff_Si = 1000.0\n",
    "max_cutoff_caps_test = [c_silicon_cutoff, max_cutoff_cap_graphite, max_cutoff_cap_dead]\n",
    "\n",
    "x1,x2 =  createX(max_cutoff_caps_test, max_caps, limits = [0.0, 1.0], bits = 2, option=None)\n",
    "\n",
    "print( x1)\n",
    "print( x2)\n",
    "\n",
    "V1 = volume_vs_x(x1, volumes, expansion_coeffs, eps)\n",
    "C1 = capacity_all(x1,max_caps, volumes, densities)\n",
    "C1_Si = capacity(x1[0],maxcap_si)\n",
    "\n",
    "V2 = volume_vs_x(x2, volumes, expansion_coeffs, eps)\n",
    "C2 = capacity_all(x2,max_caps, volumes, densities)\n",
    "C2_Si = capacity(x2[0],maxcap_si)\n",
    "#print volumes\n",
    "\n",
    "print( \"\\nvolumes (Si, Graphite, Dead, Void):\")\n",
    "print( V1)\n",
    "print( \"x = %3.2f, P = %3.2f, C = %5.2f mAh/g, C_Si = %5.2f mAh/g(Si)\" % (x1[0], porosity_from_volumes(V1), C1, C1_Si))\n",
    "\n",
    "print( \"\\nvolumes (Si, Graphite, Dead, Void):\")\n",
    "print( V2)\n",
    "print( \"x = %3.2f, P = %3.2f, C = %5.2f mAh/g, C_Si = %5.2f mAh/g(Si)\" % (x2[0], porosity_from_volumes(V2), C2, C2_Si))\n",
    "\n",
    "\n",
    "assert round(C2_Si,2) == round(c_silicon_cutoff,2)"
   ]
  },
  {
   "cell_type": "markdown",
   "metadata": {},
   "source": [
    "### Full range"
   ]
  },
  {
   "cell_type": "code",
   "execution_count": null,
   "metadata": {
    "collapsed": false,
    "jupyter": {
     "outputs_hidden": false
    }
   },
   "outputs": [],
   "source": [
    "# variables \n",
    "bits = 100\n",
    "cutoff_Si = 1000.0\n",
    "porosity = 0.5\n",
    "eps = 1.1\n",
    "\n",
    "# creating cutoff list\n",
    "max_cutoff_caps_test = [c_silicon_cutoff, max_cutoff_cap_graphite, max_cutoff_cap_dead]\n",
    "\n",
    "# calculating the initial pore volume (void volume) and creating volume list\n",
    "volume_void_0 = pore_volume_from_porosity(porosity, [volume_silicon_0,volume_graphite_0, volume_dead_0])\n",
    "volumes = [volume_silicon_0,volume_graphite_0,volume_dead_0, volume_void_0]\n",
    "\n",
    "# creating fraction range (x)\n",
    "X =  createX(max_cutoff_caps_test, max_caps, limits = [0.0, 1.0], bits = bits, option=\"scalingSi\")\n",
    "_x    = np.linspace(0.0,1.0,bits)\n",
    "_c_Si = capacity(X[:,0],maxcap_si)\n",
    "\n",
    "\n",
    "# setting up initial numpy arrays\n",
    "cols = 4\n",
    "rows = bits\n",
    "\n",
    "V = np.zeros((rows,cols))\n",
    "P = np.zeros((rows,1))\n",
    "C = np.zeros((rows,1))\n",
    "\n",
    "# iterating through the x-values and calculating V,P, and C\n",
    "row_no = 0\n",
    "for x in X:\n",
    "    V[row_no,:] = volume_vs_x(x, volumes, expansion_coeffs, eps)\n",
    "    P[row_no] = porosity_from_volumes(V[row_no, :])\n",
    "    C[row_no] = capacity_all(x,max_caps, volumes, densities)\n",
    "    row_no += 1\n",
    "\n",
    "# report\n",
    "print( \"Maximum capacity: %5.2f mAh/g(Tot)\" % (C[-1]))\n",
    "print( \"Initial porosity: %5.2f\" % (porosity))\n",
    "print( \"Final porosity:   %5.2f\" % (P[-1]),)\n",
    "if eps > 1.0:\n",
    "    print( \"(including volume for expansion (eps>1))\")\n",
    "else:\n",
    "    print()\n",
    "\n",
    "# replace negative values with np.NAN\n",
    "V = np.where(V>0.0,V, np.NAN) # location (indexes) where (V > 0.0); if TRUE, return V[location], else return np.NAN\n",
    "P = np.where(P>0.0,P, np.NAN)\n",
    "C = np.where(C>0.0,C, np.NAN)\n",
    "\n",
    "# plotting\n",
    "plt.plot(_x,V[:,0], label = \"Silicon\")\n",
    "plt.plot(_x,V[:,1], label = \"Graphite\")\n",
    "plt.plot(_x,V[:,2], label = \"Dead\")\n",
    "plt.plot(_x,V[:,3], label = \"Void\")\n",
    "plt.xlabel(\"fraction\")\n",
    "plt.ylabel(\"Volume\")\n",
    "plt.legend()\n",
    "print()\n",
    "print( \"Volume vs. Fraction\".upper())\n",
    "\n"
   ]
  },
  {
   "cell_type": "markdown",
   "metadata": {},
   "source": [
    "More plots..."
   ]
  },
  {
   "cell_type": "code",
   "execution_count": null,
   "metadata": {
    "collapsed": false,
    "jupyter": {
     "outputs_hidden": false
    }
   },
   "outputs": [],
   "source": [
    "plt.plot(_x,P)\n",
    "plt.xlabel(\"fraction\")\n",
    "plt.ylabel(\"Porosity\")\n",
    "print( \"\\nPorosity vs. Fraction\".upper())"
   ]
  },
  {
   "cell_type": "code",
   "execution_count": null,
   "metadata": {
    "collapsed": false,
    "jupyter": {
     "outputs_hidden": false
    }
   },
   "outputs": [],
   "source": [
    "plt.plot(_x,C)\n",
    "plt.xlabel(\"fraction\")\n",
    "plt.ylabel(\"total capacity (mAh/g)\")\n",
    "print()\n",
    "print( \"Total capacity vs. Fraction\".upper())"
   ]
  },
  {
   "cell_type": "code",
   "execution_count": null,
   "metadata": {
    "collapsed": false,
    "jupyter": {
     "outputs_hidden": false
    }
   },
   "outputs": [],
   "source": [
    "plt.plot(C,P)\n",
    "plt.xlabel(\"total capacity (mAh/g)\")\n",
    "plt.ylabel(\"porosity\")\n",
    "plt.axhline(0.4,linestyle = \"--\")\n",
    "print()\n",
    "print( \"Porosity vs. total capacity\".upper())"
   ]
  },
  {
   "cell_type": "code",
   "execution_count": null,
   "metadata": {
    "collapsed": false,
    "jupyter": {
     "outputs_hidden": false
    }
   },
   "outputs": [],
   "source": [
    "plt.plot(_c_Si,P)\n",
    "plt.xlabel(\"capacity (mAh/g(Si))\")\n",
    "plt.ylabel(\"porosity\")\n",
    "plt.axhline(0.4,linestyle = \"--\")\n",
    "print()\n",
    "print( \"Porosity vs. capacity pr gram Silicon\".upper())\n"
   ]
  },
  {
   "cell_type": "code",
   "execution_count": null,
   "metadata": {
    "collapsed": false,
    "jupyter": {
     "outputs_hidden": false
    }
   },
   "outputs": [],
   "source": [
    "c0 = 320.0  # mAh/g(Si)\n",
    "c1 = 3600.0 # mAh/g(Si)\n",
    "l  = 2.5    # mAh/cm2\n",
    "\n",
    "\n",
    "\n",
    "def find_c_for_p_cutoff(X, p_cutoff, volumes, expansion_coeffs, eps, max_caps, densities):\n",
    "    for x in X:\n",
    "        V = volume_vs_x(x, volumes, expansion_coeffs, eps)\n",
    "        P = porosity_from_volumes(V)\n",
    "        if P<=p_cutoff:\n",
    "            return capacity_all(x,max_caps, volumes, densities)\n",
    "    #return capacity_all(x,max_caps, volumes, densities)\n",
    "    return np.nan\n",
    "\n",
    "\n",
    "# variables \n",
    "bits = 100\n",
    "cutoff_Si = 1000.0\n",
    "porosity_cut_off = 0.4\n",
    "eps = 1.0\n",
    "\n",
    "# creating cutoff list\n",
    "max_cutoff_caps_test = [c_silicon_cutoff, max_cutoff_cap_graphite, max_cutoff_cap_dead]\n",
    "\n",
    "# creating fraction range (x) and starting porosities\n",
    "X =  createX(max_cutoff_caps_test, max_caps, limits = [0.0, 1.0], bits = bits, option=\"scalingSi\")\n",
    "_p = np.linspace(0.45,0.7,20)\n",
    "#_p = [0.6,0.5]\n",
    "\n",
    "V  = [[volume_silicon_0,\n",
    "       volume_graphite_0,\n",
    "       volume_dead_0, \n",
    "       pore_volume_from_porosity(p, [volume_silicon_0,volume_graphite_0, volume_dead_0])] for p in _p]\n",
    "c  = [find_c_for_p_cutoff(X, porosity_cut_off,v, expansion_coeffs, eps, max_caps, densities) for v in V]\n",
    "\n",
    "plt.plot(_p,c,)\n",
    "plt.xlabel(\"starting porosity\")\n",
    "plt.ylabel(\"capacity reach before \\nporosity decreased to cut-off-value\")\n",
    "plt.axvline(porosity_cut_off,linestyle = '--', label = \"cut-off\")\n",
    "plt.xlim([0.2, 0.8])\n",
    "plt.ylim([200, 1000])\n",
    "plt.legend()"
   ]
  },
  {
   "cell_type": "code",
   "execution_count": null,
   "metadata": {
    "collapsed": false,
    "jupyter": {
     "outputs_hidden": false
    }
   },
   "outputs": [],
   "source": [
    "f_silicon  = 0.522\n",
    "f_graphite = 0.13\n",
    "f_dead     = 1.0 - (f_silicon + f_graphite)\n",
    "print( f_dead)\n"
   ]
  },
  {
   "cell_type": "code",
   "execution_count": null,
   "metadata": {
    "collapsed": false,
    "jupyter": {
     "outputs_hidden": false
    }
   },
   "outputs": [],
   "source": [
    "c0 = 320.0  # mAh/g(Si)\n",
    "c1 = 3600.0 # mAh/g(Si)\n",
    "l  = 2.5    # mAh/cm2\n",
    "\n",
    "\n",
    "\n",
    "def find_c_for_p_cutoff(X, p_cutoff, volumes, expansion_coeffs, eps, max_caps, densities):\n",
    "    for x in X:\n",
    "        V = volume_vs_x(x, volumes, expansion_coeffs, eps)\n",
    "        P = porosity_from_volumes(V)\n",
    "        if P<=p_cutoff:\n",
    "            return capacity_all(x,max_caps, volumes, densities)\n",
    "    #return capacity_all(x,max_caps, volumes, densities)\n",
    "    return np.nan\n",
    "\n",
    "\n",
    "def find_v_for_porosity(porosity,v):\n",
    "    V = []\n",
    "    for p in porosity:\n",
    "        v_void = pore_volume_from_porosity(p, v)\n",
    "        V.append([v[0],v[1], v[2],v_void])\n",
    "    return V\n",
    "\n",
    "def get_volumes_from_fractions(MF,RHO):\n",
    "    V = [volume_from_fR(mf,rho) for mf,rho in zip(MF,RHO)]\n",
    "    return V\n",
    "    \n",
    "\n",
    "# variables \n",
    "fname =r\"C:\\Scripting\\MyFiles\\notebooks\\ElectrodeCalculations\\SiliconExpansion\\CvsPvsF_dead_0_348.png\"\n",
    "bits = 100\n",
    "porosity_cut_off = 0.4\n",
    "eps = 1.0\n",
    "f_dead     = 0.348\n",
    "M   = [maxcap_si, max_cutoff_cap_graphite, max_cutoff_cap_dead]\n",
    "RHO = [rho_si, rho_graphite, rho_dead]\n",
    "\n",
    "_p = np.linspace(0.45,0.8,20)\n",
    "#f_silicon = np.linspace(0.1,round(1.0-f_dead,2),5)\n",
    "f_silicon = [0.1,0.2, 0.3, 0.4, 0.5, 0.6]\n",
    "fig = plt.figure()\n",
    "fig.suptitle(\"Capacity reached before porosity decreases to cut-off-value\")\n",
    "for f in f_silicon:\n",
    "    MF  = [f, 1-f-f_dead,f_dead]\n",
    "    V   = get_volumes_from_fractions(MF,RHO)\n",
    "    X =  createX(M, max_caps, limits = [0.0, 1.0], bits = bits, option=\"scalingSi\")\n",
    "    c  = [find_c_for_p_cutoff(X, porosity_cut_off,v, expansion_coeffs, eps, max_caps, RHO) for v in find_v_for_porosity(_p,V)]\n",
    "\n",
    "    plt.plot(_p,c, label = \"%3.0f%% Si\" % (100.0*f))\n",
    "#plt.title(\"Capacity reach before porosity decreases to cut-off-value\")\n",
    "plt.xlabel(\"Starting porosity\")\n",
    "plt.ylabel(\"Capacity reach (mAh/g(tot))\")\n",
    "plt.xlim([_p[0]-0.05, _p[-1]+0.15])\n",
    "plt.ylim([0.0, 2500.0])\n",
    "plt.grid()\n",
    "plt.legend()\n",
    "plt.savefig(fname, dpi = 500)\n",
    "print( \"plotting the capacity reached when starting with a given porosity for different fractions of Si\".upper())\n",
    "print( 100*\"-\")\n",
    "print( \"contains Si, Graphite and dead material\")\n",
    "print( \"mass fraction of dead material (CB, BINDER, OTHER): %3.2f\" % f_dead)\n",
    "print( \"porosity cut-off: %3.2f\" % (porosity_cut_off))"
   ]
  },
  {
   "cell_type": "markdown",
   "metadata": {},
   "source": [
    "## Calculations for double-binder electrodes\n",
    " - Name: xx0nn (not disclosed)\n",
    "\n",
    "|Material         |      fraction |\n",
    "|-----------------|---------------|\n",
    "|Si (xxx (Elkem)) | 0.5218        |\n",
    "|graphite (SLP 30)| 0.0868        |\n",
    "|CB (C65)         | 0.1308        |\n",
    "|B1 (xxx)         | 0.0653        |\n",
    "|B2 (xxx)         | 0.0656        |\n",
    "|Buffer chemicals | 0.1298        |\n",
    "\n",
    "\n"
   ]
  },
  {
   "cell_type": "code",
   "execution_count": null,
   "metadata": {
    "collapsed": false,
    "jupyter": {
     "outputs_hidden": false
    }
   },
   "outputs": [],
   "source": [
    "# defining mass fractions for xx0nn\n",
    "f_binder_1 = 0.0653\n",
    "f_binder_2 = 0.0656\n",
    "f_silicon_xx0nn = 0.5218\n",
    "f_graphite_xx0nn = 0.0868\n",
    "f_cb_xx0nn = 0.1308\n",
    "f_chemicals = 0.1298\n",
    "f_binder_xx0nn = f_binder_1 + f_binder_2\n",
    "f_dead_xx0nn = f_binder_xx0nn + f_cb_xx0nn + f_chemicals\n",
    "\n",
    "mass_fractions_xx0nn = [f_silicon_xx0nn,f_graphite_xx0nn,f_dead_xx0nn]\n",
    "\n",
    "assert round(np.sum(mass_fractions_xx0nn),3) == 1.0\n",
    "\n",
    "\n",
    "# other variablse\n",
    "fname1 =r\"C:\\Scripting\\MyFiles\\notebooks\\ElectrodeCalculations\\SiliconExpansion\\CvsP_xx0nn.png\"\n",
    "fname2 =r\"C:\\Scripting\\MyFiles\\notebooks\\ElectrodeCalculations\\SiliconExpansion\\CvsP_SiCap_xx0nn.png\"\n",
    "bits = 100\n",
    "porosity_cut_off = 0.4\n",
    "eps = 1.0\n",
    "cutoff_Si = 1000.0\n",
    "\n",
    "\n",
    "# creating cutoff list\n",
    "max_cutoff_caps_xx0nn = [cutoff_Si, max_cutoff_cap_graphite, max_cutoff_cap_dead]\n",
    "\n",
    "\n",
    "# need to make the initial volume list\n",
    "volume_silicon_0 = volume_from_fR(f_silicon_xx0nn,rho_si)\n",
    "volume_graphite_0 = volume_from_fR(f_graphite_xx0nn,rho_graphite)\n",
    "volume_dead_0 = volume_from_fR(f_dead_xx0nn,rho_dead)\n",
    "\n",
    "\n",
    "# creating fraction range (x) and starting porosities\n",
    "X =  createX(max_cutoff_caps_xx0nn, max_caps, limits = [0.0, 1.0], bits = bits, option=\"scalingSi\")\n",
    "cSi =  capacity(X[:,0],maxcap_si)\n",
    "\n",
    "\n",
    "_p = np.linspace(0.32,0.85,100)\n",
    "\n",
    "V  = [[volume_silicon_0,\n",
    "       volume_graphite_0,\n",
    "       volume_dead_0, \n",
    "       pore_volume_from_porosity(p, [volume_silicon_0,volume_graphite_0, volume_dead_0])] for p in _p]\n",
    "c   = [find_c_for_p_cutoff(X, porosity_cut_off,v, expansion_coeffs, eps, max_caps, densities) for v in V]\n",
    "cSi = np.array(c)/f_silicon_xx0nn\n",
    "\n",
    "fig = plt.figure()\n",
    "#fig.suptitle(\"Capacity reached before porosity decreases to cut-off-value\")\n",
    "plt.plot(_p,c,)\n",
    "plt.xlabel(\"starting porosity\")\n",
    "plt.ylabel(\"capacity (mAh/g(tot))\")\n",
    "#plt.xlim([0.1, 0.8])\n",
    "#plt.ylim([200, 1000])\n",
    "plt.grid()\n",
    "plt.legend()\n",
    "plt.savefig(fname1, dpi = 500)\n",
    "\n",
    "fig = plt.figure()\n",
    "#fig.suptitle(\"Capacity reached before porosity decreases to cut-off-value\")\n",
    "plt.plot(_p,cSi)\n",
    "plt.xlabel(\"starting porosity\")\n",
    "plt.ylabel(\"capacity (mAh/g(Si))\")\n",
    "plt.grid()\n",
    "plt.axhline(1000.0, linestyle = \"--\")\n",
    "index = np.where(cSi[~np.isnan(cSi)]>=(1000.0+0.0001))\n",
    "i = index[-1][0]\n",
    "p_i = _p[i]\n",
    "p_i_txt = \"p = %3.2f\" % p_i\n",
    "\n",
    "plt.axvline(p_i, linestyle = \"--\")\n",
    "#plt.text(0.55, 1100.0, p_i_txt)\n",
    "\n",
    "plt.annotate(p_i_txt, xy=(p_i, 1000), xytext=(0.46, 1100),\n",
    "             arrowprops=dict(facecolor='black', shrink=0.05, width = 1.5, frac = 0.3))\n",
    "plt.savefig(fname2, dpi = 500)\n",
    "print( \"saved to:\")\n",
    "print( fname1)\n",
    "print( fname2)\n",
    "\n",
    "print()\n",
    "c1 = 1000.0 # mAh/g(Si)\n",
    "l  = 2.5    # mAh/cm2\n",
    "p1 = 0.56\n",
    "\n",
    "\n",
    "\n",
    "d = density_all(densities, mass_fractions_xx0nn, porosity=p_i)\n",
    "print( calc_needed_thickness(f_silicon_xx0nn*cutoff_Si,l,d)*to_micron)"
   ]
  },
  {
   "cell_type": "code",
   "execution_count": null,
   "metadata": {},
   "outputs": [],
   "source": [
    "!jupyter nbconvert --to html 2016_04_VolumeConstrainsGraphiteSiElectrode_py36.ipynb"
   ]
  },
  {
   "cell_type": "code",
   "execution_count": null,
   "metadata": {},
   "outputs": [],
   "source": []
  }
 ],
 "metadata": {
  "kernelspec": {
   "display_name": "coffeshop",
   "language": "python",
   "name": "coffeshop"
  },
  "language_info": {
   "codemirror_mode": {
    "name": "ipython",
    "version": 3
   },
   "file_extension": ".py",
   "mimetype": "text/x-python",
   "name": "python",
   "nbconvert_exporter": "python",
   "pygments_lexer": "ipython3",
   "version": "3.9.4"
  }
 },
 "nbformat": 4,
 "nbformat_minor": 4
}
