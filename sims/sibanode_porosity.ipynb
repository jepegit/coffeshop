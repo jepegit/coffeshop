{
 "cells": [
  {
   "cell_type": "markdown",
   "id": "instructional-examination",
   "metadata": {},
   "source": [
    "# Calculation of volume constraints for Si-composite anodes\n",
    "\n",
    "**Authors:**\n",
    "- Carl Erik L. Foss, IFE\n",
    "- Jan Petter Maehlen, IFE\n",
    "\n",
    "**Last update:** 2021.04.23\n",
    "\n",
    "**Acknowledgements:** Elkem and Research Council of Norway"
   ]
  },
  {
   "cell_type": "markdown",
   "id": "1d8c85fa-ffa8-49c9-9daf-dfe0d8f6bcb9",
   "metadata": {},
   "source": [
    "## Imports and setup"
   ]
  },
  {
   "cell_type": "code",
   "execution_count": null,
   "id": "copyrighted-canyon",
   "metadata": {},
   "outputs": [],
   "source": [
    "# from IPython.display import display, Math, Latex\n",
    "import numpy as np\n",
    "import matplotlib.pyplot as plt\n",
    "%matplotlib inline"
   ]
  },
  {
   "cell_type": "markdown",
   "id": "a59fd9e0-4fd3-4290-94eb-25d124063269",
   "metadata": {},
   "source": [
    "## Information\n",
    "\n",
    "(or maybe only a link to information)"
   ]
  },
  {
   "cell_type": "markdown",
   "id": "e7825bff-f9d4-4821-a7aa-fdc5a233e23f",
   "metadata": {},
   "source": [
    "Fig 1. Expansion"
   ]
  },
  {
   "cell_type": "markdown",
   "id": "f9b37f7e-e1fb-4800-abd6-16a89964ce2e",
   "metadata": {},
   "source": [
    "<img src=\"SiliconExpansion_fig_001.png\">"
   ]
  },
  {
   "cell_type": "markdown",
   "id": "0bef2748-743c-472a-b692-baefb2cdddb0",
   "metadata": {},
   "source": [
    "Fig 2. Initial vs. expanded"
   ]
  },
  {
   "cell_type": "markdown",
   "id": "c3c06b83-73fa-4be7-87a3-77c292ba66ba",
   "metadata": {},
   "source": [
    "<img src=\"SiliconExpanded_fig_001.png\">"
   ]
  },
  {
   "cell_type": "markdown",
   "id": "1c5145a8-718c-4349-ba73-4bfec6de578b",
   "metadata": {},
   "source": [
    "## DEV: Objective of notebook\n",
    "\n",
    "1. Calculate porosity based on measured mass, thickness and either area or diamter of electrode.\n",
    "2. Calculate change in porosity based on lithiation level\n",
    "3. Should be possible to generate a xy plot of porosity vs lithiation level for any given Silicon/Graphite/Other ratio\n",
    "4. Should be possible to generate a plot showing volumetric and gravimetric capacity as a function of Silicon/Graphite/Other ratio and lithiation level\n",
    "\n",
    "In the end, the functions can be moved out of the notebook into a python module (for example a .py file in the same directory)\n",
    "\n",
    "### Next (other notebook?)\n",
    "1. Interactive notebook\n",
    "2. Calculate energy density of \"real\" cell given material prms for anode and cathode\n",
    "\n"
   ]
  },
  {
   "cell_type": "markdown",
   "id": "e225c7e0-ac63-4360-a1a3-a6769c2aaaef",
   "metadata": {},
   "source": [
    "## DEV: Notes and trix"
   ]
  },
  {
   "cell_type": "markdown",
   "id": "9c50a57e-5fb6-42ad-b92b-19925e584099",
   "metadata": {},
   "source": [
    "1. Since github is deprecating the option of using a userename/password authentication, you might have to use ssh\n",
    "\n",
    "    a. create ssh key and set it up\n",
    "    \n",
    "    b. make sure you set origin to the git@github.com:jepegit/coffeshop.git (not the html url that used to be standard)\n",
    "    \n",
    "    e.g. git remote set-url origin git@github.com:jepegit/coffeshop.git"
   ]
  },
  {
   "cell_type": "code",
   "execution_count": null,
   "id": "d06237b9-2cf8-4d71-8641-1143a0087255",
   "metadata": {
    "tags": []
   },
   "outputs": [],
   "source": []
  },
  {
   "cell_type": "markdown",
   "id": "18b4aa69-890c-45ce-9062-f15b113ba373",
   "metadata": {},
   "source": [
    "## Input"
   ]
  },
  {
   "cell_type": "markdown",
   "id": "58bf973c-c2fd-4d82-b9c0-92d76b6ed63f",
   "metadata": {},
   "source": [
    "Used for development"
   ]
  },
  {
   "cell_type": "code",
   "execution_count": null,
   "id": "df3bf4bc-6c7c-4e59-a668-37bf389f3e30",
   "metadata": {},
   "outputs": [],
   "source": [
    "# Needed input prms (constants)\n",
    "\n",
    "# expansion coeffs\n",
    "expansion_coeff_si       = 2.8 \n",
    "expansion_coeff_graphite = 0.1\n",
    "expansion_coeff_dead     = 0.0\n",
    "\n",
    "# densities\n",
    "rho_si = 2.329           # g/ccm\n",
    "rho_graphite = 2.1       # g/ccm\n",
    "rho_dead = 1.8           # g/ccm\n",
    "\n",
    "# max capacities\n",
    "maxcap_si = 3579.0       # mAh/g\n",
    "maxcap_graphite = 372.0  # mAh/g\n",
    "maxcap_dead = 0.0        # mAh/g\n"
   ]
  },
  {
   "cell_type": "code",
   "execution_count": null,
   "id": "c6665735-50e3-4fd5-b2c2-11f8b7430e1d",
   "metadata": {},
   "outputs": [],
   "source": [
    "# Needed input prms (variables)\n",
    "\n",
    "# composition\n",
    "mass_fraction_silicon  = 0.6\n",
    "mass_fraction_graphite = 0.3\n",
    "mass_fraction_dead     = 0.1\n",
    "\n",
    "# electrode / cell\n",
    "radius = 0.5*1.5\n",
    "\n",
    "eps = 1.0  # allowed expansion coef for electrode (1.0 means no room available)\n",
    "\n",
    "# cut-off capacities\n",
    "max_cutoff_cap_si = 3579.0       # mAh/g\n",
    "max_cutoff_cap_graphite = 372.0  # mAh/g\n",
    "max_cutoff_cap_dead = 0.0        # mAh/g\n",
    "\n",
    "# porosity range\n",
    "porosity = 0.5 # initial porosity\n",
    "porosity_limit = 0.0 # final limit for porosity"
   ]
  },
  {
   "cell_type": "markdown",
   "id": "bc6e7dc5-552d-4a5b-b940-26f6f8d82692",
   "metadata": {},
   "source": [
    "## Utility functions"
   ]
  },
  {
   "cell_type": "code",
   "execution_count": null,
   "id": "19c3b8b4-2bda-4686-96b7-f39fffff5c0f",
   "metadata": {},
   "outputs": [],
   "source": [
    "def density_composite(densities, mass_fractions, porosity = 0.0, debug=False):\n",
    "    \"\"\"Calculate density of composite.\n",
    "    \n",
    "    Parameters\n",
    "    ----------\n",
    "    densities : list of floats\n",
    "        The densities of the composite components (in g/ccm).\n",
    "    mass_fractions : list of floats\n",
    "        The mass fraction of each composite component (in g).\n",
    "    porosity : float \n",
    "        Porosity (from 0.0 to 1.0, where 0.0 means no porosity).\n",
    "    debug : bool\n",
    "        Print messages to stdout if True.\n",
    "        \n",
    "    Returns\n",
    "    -------\n",
    "    Float\n",
    "        The calculated density\n",
    "    \"\"\"\n",
    "    \n",
    "    \n",
    "    total_mass = np.sum(mass_fractions)\n",
    "    \n",
    "    total_volume = 0.0\n",
    "    for d,m in zip(densities, mass_fractions):\n",
    "        if debug:\n",
    "            print(f\"density: {d}\\nfraction: {m}\")\n",
    "        total_volume += m/d\n",
    "    try:\n",
    "        total_volume = total_volume/(1-porosity)\n",
    "    except ZeroDivisionError:\n",
    "        print(\"ERROR! You have a porosity of 1.0 (meaning your electrode contains nothing)\")\n",
    "        return None\n",
    "    \n",
    "    density = total_mass/total_volume\n",
    "    if debug:\n",
    "        print(f\"Density: {density}\")\n",
    "    return density"
   ]
  },
  {
   "cell_type": "code",
   "execution_count": null,
   "id": "cdcafd42-8f9c-4dfc-8a1e-119ced1e6f46",
   "metadata": {},
   "outputs": [],
   "source": [
    "def density_outer(area, thickness, mass):\n",
    "    \"\"\"Calculate the outer density of the electrode.\n",
    "    \n",
    "    Parameters\n",
    "    ----------\n",
    "    area : float\n",
    "        The area of the electrode (in cm2).\n",
    "    thickness : float\n",
    "        The thickness of the electrode (in cm).\n",
    "    mass : float \n",
    "        mass of the electrode (in g)\n",
    "        \n",
    "    Returns\n",
    "    -------\n",
    "    Float\n",
    "        The calculated density\n",
    "    \"\"\"\n",
    "    \n",
    "    volume = area * thickness\n",
    "    density = mass/volume\n",
    "    return density"
   ]
  },
  {
   "cell_type": "code",
   "execution_count": null,
   "id": "d930844e-1506-4de6-9c9c-688dca32a1aa",
   "metadata": {},
   "outputs": [],
   "source": [
    "def porosity_theoretical(inner_density, outer_density):\n",
    "    return 1 - (outer_density / inner_density)\n"
   ]
  },
  {
   "cell_type": "markdown",
   "id": "8fd6fe14-5ed9-4542-92cd-c4932061b84a",
   "metadata": {},
   "source": [
    "# 1. Calculate porosity based on measured mass, thickness and either area or diamter of electrode."
   ]
  },
  {
   "cell_type": "code",
   "execution_count": null,
   "id": "9c816b6b-fd2a-41e7-a542-4fefd6a03959",
   "metadata": {},
   "outputs": [],
   "source": [
    "# Some vars\n",
    "densities = [rho_si, rho_graphite, rho_dead]\n",
    "mass_fractions = [mass_fraction_silicon, mass_fraction_graphite, mass_fraction_dead]\n",
    "\n",
    "mass = 2.23/1000  # g\n",
    "thickness = 12/10000 # cm\n",
    "area = 0.25 * np.pi * 1.5**2 # cm2\n",
    "\n",
    "# test\n",
    "\n",
    "\n",
    "d1 = density_composite(densities, mass_fractions)\n",
    "print(f\"inner density (composite): {d1}\")\n",
    "d2 = density_outer(area, thickness, mass)\n",
    "print(f\"outer density (outer volume and mass): {d2}\")\n",
    "\n",
    "porosity = porosity_theoretical(d1, d2)\n",
    "\n",
    "print(f\"porosity: {porosity}\")\n"
   ]
  },
  {
   "cell_type": "markdown",
   "id": "38b6e0e2-abd6-4b07-9c9c-67a79012a315",
   "metadata": {},
   "source": [
    "# 2. Calculate change in porosity based on lithiation level"
   ]
  },
  {
   "cell_type": "markdown",
   "id": "e7ecce5e-6454-401e-80ea-9d59879c7a33",
   "metadata": {},
   "source": [
    "## Notes\n",
    "\n",
    "- Provide density as a function of lithiation level\n",
    "- Assume lithiation level is in the range 0.0 to 1.0\n",
    "- Either: assume linear expansion or provide a function describing the relation"
   ]
  },
  {
   "cell_type": "markdown",
   "id": "10222864-0831-4d6f-948b-c9c46ee23c86",
   "metadata": {},
   "source": [
    "## 2.1 Change in density"
   ]
  },
  {
   "cell_type": "code",
   "execution_count": null,
   "id": "9c436787-478a-42a6-9597-f0cbdde6b03e",
   "metadata": {},
   "outputs": [],
   "source": [
    "def expansion(lithiation_degree, initial_density, expansion_coeff):\n",
    "    new_density = 1 / ((1 / initial_density) + expansion_coeff * lithiation_degree)\n",
    "    return new_density\n"
   ]
  },
  {
   "cell_type": "code",
   "execution_count": null,
   "id": "5421c848-c833-4b4b-a4ff-362b0e1e616f",
   "metadata": {},
   "outputs": [],
   "source": [
    "lithiation_degree = 1.0\n",
    "initial_density = 1.0\n",
    "expansion_coeff = 0.1\n",
    "\n",
    "expansion(lithiation_degree, initial_density, expansion_coeff)"
   ]
  },
  {
   "cell_type": "code",
   "execution_count": null,
   "id": "5793c8bc-f008-4abb-b937-9421f8d05d62",
   "metadata": {},
   "outputs": [],
   "source": [
    "initial_density = 2.0\n",
    "expansion_coeff = 2.8\n",
    "x = np.linspace(0.0, 1, 100)\n",
    "y = expansion(x, initial_density, expansion_coeff)"
   ]
  },
  {
   "cell_type": "code",
   "execution_count": null,
   "id": "8faa4555-f54f-4ef9-84ef-4051ee23751a",
   "metadata": {},
   "outputs": [],
   "source": [
    "plt.plot(x,y)"
   ]
  },
  {
   "cell_type": "markdown",
   "id": "da44d220-061a-49f0-9d1a-14d0e611b063",
   "metadata": {},
   "source": [
    "## 2.2 Change in porosity as a function of lithiation degree"
   ]
  },
  {
   "cell_type": "code",
   "execution_count": null,
   "id": "d80a473a-51e1-4462-acee-3cf046120807",
   "metadata": {},
   "outputs": [],
   "source": []
  }
 ],
 "metadata": {
  "kernelspec": {
   "display_name": "cellpy",
   "language": "python",
   "name": "python3"
  },
  "language_info": {
   "codemirror_mode": {
    "name": "ipython",
    "version": 3
   },
   "file_extension": ".py",
   "mimetype": "text/x-python",
   "name": "python",
   "nbconvert_exporter": "python",
   "pygments_lexer": "ipython3",
   "version": "3.8.8"
  }
 },
 "nbformat": 4,
 "nbformat_minor": 5
}
