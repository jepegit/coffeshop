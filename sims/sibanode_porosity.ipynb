{
 "cells": [
  {
   "cell_type": "markdown",
   "id": "instructional-examination",
   "metadata": {},
   "source": [
    "# Calculation of volume constraints for Si-composite anodes\n",
    "\n",
    "**Authors:**\n",
    "- Carl Erik L. Foss, IFE\n",
    "- Jan Petter Maehlen, IFE\n",
    "\n",
    "**Last update:** 2021.04.23\n",
    "\n",
    "**Acknowledgements:** Elkem and Research Council of Norway"
   ]
  },
  {
   "cell_type": "markdown",
   "id": "1d8c85fa-ffa8-49c9-9daf-dfe0d8f6bcb9",
   "metadata": {},
   "source": [
    "## Imports and setup"
   ]
  },
  {
   "cell_type": "code",
   "execution_count": null,
   "id": "copyrighted-canyon",
   "metadata": {},
   "outputs": [],
   "source": [
    "# from IPython.display import display, Math, Latex\n",
    "import numpy as np\n",
    "import matplotlib.pyplot as plt\n",
    "%matplotlib inline"
   ]
  },
  {
   "cell_type": "markdown",
   "id": "a59fd9e0-4fd3-4290-94eb-25d124063269",
   "metadata": {},
   "source": [
    "## Information\n",
    "\n",
    "(or maybe only a link to information)"
   ]
  },
  {
   "cell_type": "markdown",
   "id": "e7825bff-f9d4-4821-a7aa-fdc5a233e23f",
   "metadata": {},
   "source": [
    "Fig 1. Expansion"
   ]
  },
  {
   "cell_type": "markdown",
   "id": "f9b37f7e-e1fb-4800-abd6-16a89964ce2e",
   "metadata": {},
   "source": [
    "<img src=\"SiliconExpansion_fig_001.png\">"
   ]
  },
  {
   "cell_type": "markdown",
   "id": "0bef2748-743c-472a-b692-baefb2cdddb0",
   "metadata": {},
   "source": [
    "Fig 2. Initial vs. expanded"
   ]
  },
  {
   "cell_type": "markdown",
   "id": "c3c06b83-73fa-4be7-87a3-77c292ba66ba",
   "metadata": {},
   "source": [
    "<img src=\"SiliconExpanded_fig_001.png\">"
   ]
  },
  {
   "cell_type": "markdown",
   "id": "1c5145a8-718c-4349-ba73-4bfec6de578b",
   "metadata": {},
   "source": [
    "## DEV: Objective of notebook\n",
    "\n",
    "1. Calculate porosity based on measured mass, thickness and either area or diamter of electrode.\n",
    "2. Calculate change in porosity based on lithiation level\n",
    "3. Should be possible to generate a xy plot of porosity vs lithiation level for any given Silicon/Graphite/Other ratio\n",
    "4. Should be possible to generate a plot showing volumetric and gravimetric capacity as a function of Silicon/Graphite/Other ratio and lithiation level\n",
    "\n",
    "In the end, the functions can be moved out of the notebook into a python module (for example a .py file in the same directory)\n",
    "\n",
    "### Next (other notebook?)\n",
    "1. Interactive notebook\n",
    "2. Calculate energy density of \"real\" cell given material prms for anode and cathode\n",
    "\n"
   ]
  },
  {
   "cell_type": "code",
   "execution_count": null,
   "id": "d06237b9-2cf8-4d71-8641-1143a0087255",
   "metadata": {},
   "outputs": [],
   "source": []
  },
  {
   "cell_type": "markdown",
   "id": "18b4aa69-890c-45ce-9062-f15b113ba373",
   "metadata": {},
   "source": [
    "## Input"
   ]
  },
  {
   "cell_type": "markdown",
   "id": "58bf973c-c2fd-4d82-b9c0-92d76b6ed63f",
   "metadata": {},
   "source": [
    "Used for development"
   ]
  },
  {
   "cell_type": "code",
   "execution_count": null,
   "id": "df3bf4bc-6c7c-4e59-a668-37bf389f3e30",
   "metadata": {},
   "outputs": [],
   "source": [
    "# Needed input prms (constants)\n",
    "\n",
    "# expansion coeffs\n",
    "expansion_coeff_si       = 2.8 \n",
    "expansion_coeff_graphite = 0.1\n",
    "expansion_coeff_dead     = 0.0\n",
    "\n",
    "# densities\n",
    "rho_si = 2.329           # g/ccm\n",
    "rho_graphite = 2.1       # g/ccm\n",
    "rho_dead = 1.8           # g/ccm\n",
    "\n",
    "# max capacities\n",
    "maxcap_si = 3579.0       # mAh/g\n",
    "maxcap_graphite = 372.0  # mAh/g\n",
    "maxcap_dead = 0.0        # mAh/g\n"
   ]
  },
  {
   "cell_type": "code",
   "execution_count": null,
   "id": "c6665735-50e3-4fd5-b2c2-11f8b7430e1d",
   "metadata": {},
   "outputs": [],
   "source": [
    "# Needed input prms (variables)\n",
    "\n",
    "# composition\n",
    "mass_fraction_silicon  = 0.6\n",
    "mass_fraction_graphite = 0.3\n",
    "mass_fraction_dead     = 0.1\n",
    "\n",
    "# electrode / cell\n",
    "radius = 0.5*1.5\n",
    "\n",
    "eps = 1.0  # allowed expansion coef for electrode (1.0 means no room available)\n",
    "\n",
    "# cut-off capacities\n",
    "max_cutoff_cap_si = 3579.0       # mAh/g\n",
    "max_cutoff_cap_graphite = 372.0  # mAh/g\n",
    "max_cutoff_cap_dead = 0.0        # mAh/g\n",
    "\n",
    "# porosity range\n",
    "porosity = 0.5 # initial porosity\n",
    "porosity_limit = 0.0 # final limit for porosity"
   ]
  },
  {
   "cell_type": "markdown",
   "id": "bc6e7dc5-552d-4a5b-b940-26f6f8d82692",
   "metadata": {},
   "source": [
    "## Utility functions"
   ]
  },
  {
   "cell_type": "code",
   "execution_count": null,
   "id": "19c3b8b4-2bda-4686-96b7-f39fffff5c0f",
   "metadata": {},
   "outputs": [],
   "source": [
    "def density_composite(densities, mass_fractions, porosity = 0.0, debug=False):\n",
    "    \"\"\"Calculate density of composite.\n",
    "    \n",
    "    Parameters\n",
    "    ----------\n",
    "    densities : list of floats\n",
    "        The densities of the composite components (in g/ccm).\n",
    "    mass_fractions : list of floats\n",
    "        The mass fraction of each composite component (in g).\n",
    "    porosity : float \n",
    "        Porosity (from 0.0 to 1.0, where 0.0 means no porosity).\n",
    "    debug : bool\n",
    "        Print measeages to stdout if True.\n",
    "        \n",
    "    Returns\n",
    "    -------\n",
    "    Float\n",
    "        The calculated density\n",
    "    \"\"\"\n",
    "    \n",
    "    \n",
    "    total_mass = np.sum(mass_fractions)\n",
    "    \n",
    "    total_volume = 0.0\n",
    "    for d,m in zip(densities, mass_fractions):\n",
    "        if debug:\n",
    "            print(f\"density: {d}\\nfraction: {m}\")\n",
    "        total_volume += m/d\n",
    "    try:\n",
    "        total_volume = total_volume/(1-porosity)\n",
    "    except ZeroDivisionError:\n",
    "        print(\"ERROR! You have a porosity of 1.0 (meaning your electrode contains nothing)\")\n",
    "        return None\n",
    "    \n",
    "    density = total_mass/total_volume\n",
    "    if debug:\n",
    "        print(f\"Density: {density}\")\n",
    "    return density"
   ]
  },
  {
   "cell_type": "code",
   "execution_count": null,
   "id": "bcf3911d-3279-43d1-be88-d0a6176bfdc2",
   "metadata": {},
   "outputs": [],
   "source": [
    "def real_density_composite_old(densities, mass_fractions, normalize=True):\n",
    "    \"\"\"Calculate density of composite.\n",
    "    \n",
    "    Parameters\n",
    "    ----------\n",
    "    densities : list of floats\n",
    "        The densities of the composite components (in g/ccm).\n",
    "    mass_fractions : list of floats\n",
    "        The mass fraction of each composite component (in g).\n",
    "    normalize : bool\n",
    "        Normalize the mass fraction so that they sum to one.\n",
    "        \n",
    "    Returns\n",
    "    -------\n",
    "    Float\n",
    "        The calculated density\n",
    "        \n",
    "    Notes\n",
    "    -----\n",
    "    This function can be used if you assume the internal porosity\n",
    "        is zero. This function uses numpy arrays and is faster\n",
    "        thant the density_composite function\n",
    "    \n",
    "    \"\"\"\n",
    "    \n",
    "    mass_fractions = np.array(mass_fractions)\n",
    "    densities = np.array(densities)\n",
    "    \n",
    "    if normalize:\n",
    "        mass_fractions = mass_fractions / np.sum(mass_fractions)\n",
    "    \n",
    "    density = np.sum(mass_fractions * densities)\n",
    "    return density"
   ]
  },
  {
   "cell_type": "code",
   "execution_count": null,
   "id": "09d7a388-1be9-469c-862c-9421b6be0d29",
   "metadata": {},
   "outputs": [],
   "source": [
    "# test density_composite\n",
    "densities = [rho_si, rho_graphite, rho_dead]\n",
    "mfracs = [mass_fraction_silicon, mass_fraction_graphite, mass_fraction_dead]\n",
    "density = density_all(densities, mfracs, porosity = 0.0)\n",
    "\n",
    "print(f\"The calculated density is {density:0.2f} g/ccm\")\n",
    "\n",
    "# test real_density_composite\n",
    "rdensity = real_density_composite(densities, mfracs)\n",
    "\n",
    "print(f\"The calculated (real) density is {rdensity:0.2f} g/ccm\")\n",
    "\n",
    "if abs(rdensity-density) != 0.0:\n",
    "    print(\"NOT EQUAL. WHY? OH-GOD WHYYYYY?\")"
   ]
  },
  {
   "cell_type": "markdown",
   "id": "90de74b0-5a7f-4648-95a1-0d836a51deeb",
   "metadata": {},
   "source": [
    "## 1. Calculate porosity based on measured mass, thickness and area"
   ]
  },
  {
   "cell_type": "code",
   "execution_count": null,
   "id": "0fbb17c8-5f32-48c8-a0ac-5c698299b56e",
   "metadata": {},
   "outputs": [],
   "source": [
    "mass_of_electrode = 2.23/1000  # g\n",
    "thickness_of_electrode = 12/10000 # cm\n",
    "area_of_electrode = 0.25 * np.pi * 1.5**2 # cm2 "
   ]
  },
  {
   "cell_type": "code",
   "execution_count": null,
   "id": "f69b9f6f-1a21-496d-bf95-845243791c1c",
   "metadata": {},
   "outputs": [],
   "source": [
    "def porosity_theoretical(mass, thickness, area, density):\n",
    "    volume_real = thickness * area\n",
    "    volume_calc = mass / density\n",
    "    porosity = 1 - (volume_calc/volume_real)\n",
    "    \n",
    "    return porosity"
   ]
  },
  {
   "cell_type": "code",
   "execution_count": null,
   "id": "0669bf14-8f52-48bd-9767-22995c77906c",
   "metadata": {},
   "outputs": [],
   "source": [
    "density = density_composite(densities, mfracs, porosity = 0.0)\n",
    "porosity = porosity_theoretical(mass_of_electrode, thickness_of_electrode, area_of_electrode, density)"
   ]
  },
  {
   "cell_type": "code",
   "execution_count": null,
   "id": "d260fe9e-0efe-47ae-acd0-f9df1f0fbbf7",
   "metadata": {},
   "outputs": [],
   "source": [
    "print(density)\n",
    "print(porosity)"
   ]
  },
  {
   "cell_type": "markdown",
   "id": "69db06a3-4a18-4ca8-8b15-66c5ccb7d6b0",
   "metadata": {},
   "source": [
    "## 2. Calculate change in porosity based on lithiation level"
   ]
  },
  {
   "cell_type": "markdown",
   "id": "88506e52-b014-4461-bf28-f20f04c9ca6e",
   "metadata": {},
   "source": [
    "### 2.1 density"
   ]
  },
  {
   "cell_type": "code",
   "execution_count": null,
   "id": "19a7b924-6a35-466f-b0e7-c41e8153aac6",
   "metadata": {},
   "outputs": [],
   "source": [
    "def updated_density_single(x, old_density, expansion_coeff):\n",
    "    # Assuming linear expansion and lithiation degree up to x (x=1 is max).\n",
    "    # Expansion_coeff (expansion of delta V) is defined so that 0 will give a non-changing density.\n",
    "    #    For fully lithiated compound, the volume will change from V  V + dV, where dV = expansion_coeff * V\n",
    "    d = old_density / (1 + expansion_coeff * x)\n",
    "    return d\n"
   ]
  },
  {
   "cell_type": "code",
   "execution_count": null,
   "id": "55a7d753-7f1d-4205-bc2b-cbf3a0dc52b8",
   "metadata": {},
   "outputs": [],
   "source": [
    "x = np.linspace(0.0, 1.0, 100)\n",
    "d = updated_density_single(x, rho_si, expansion_coeff_si)\n"
   ]
  },
  {
   "cell_type": "code",
   "execution_count": null,
   "id": "0ccee0c5-5500-43db-9d06-a50e36cea14e",
   "metadata": {},
   "outputs": [],
   "source": [
    "print(f\"Evolution of density for Silicon as a function of lithiation degree.\")\n",
    "print(f\" - Initial density: {rho_si} g/ccm\")\n",
    "print(f\" - Expansion coeff: {expansion_coeff_si}\")\n",
    "plt.plot(x,d)\n",
    "plt.ylim(0,3)\n",
    "plt.ylabel(\"density SiLix, rho\")\n",
    "plt.xlabel(\"lith. degree, x\");"
   ]
  },
  {
   "cell_type": "code",
   "execution_count": null,
   "id": "665958af-b1dc-4613-8329-b3b95adf2c9e",
   "metadata": {},
   "outputs": [],
   "source": []
  },
  {
   "cell_type": "code",
   "execution_count": null,
   "id": "efe4c0bd-5bf6-413a-aef3-564eb350d8eb",
   "metadata": {},
   "outputs": [],
   "source": [
    "x = np.linspace(0.0, 1.0, 100)\n",
    "mass_fracs = [0.4, 0.4, 0.2]\n",
    "\n",
    "\n",
    "d_Si = updated_density_single(x, rho_si, expansion_coeff_si)\n",
    "d_G = updated_density_single(x, rho_graphite, expansion_coeff_graphite)\n",
    "d_D = updated_density_single(x, rho_dead, expansion_coeff_dead)\n",
    "\n",
    "\n",
    "d_comp_v = np.array([d_Si, d_G, d_D]).T  # shape: (100, 3)\n",
    "mfracs_v = np.ones((100, 3)) * mass_fracs / np.sum(mass_fracs) # shape: (100, 3)\n",
    "\n",
    "d = updated_density_single(x, rho_si, expansion_coeff_si)\n",
    "\n",
    "dd = np.sum(d_comp_v * mfracs_v, axis=1)"
   ]
  },
  {
   "cell_type": "code",
   "execution_count": null,
   "id": "c196ed60-21a0-4adc-9172-271f7185738d",
   "metadata": {},
   "outputs": [],
   "source": [
    "print(f\"Evolution of density for composite as a function of lithiation degree.\")\n",
    "plt.plot(x,d, label=\"pure Si\")\n",
    "plt.plot(x,dd, label = \"composite\")\n",
    "plt.legend()\n",
    "plt.ylim(1,2.5)\n",
    "plt.xlim(0, 1)\n",
    "plt.ylabel(\"density SiLix, rho\")\n",
    "plt.xlabel(\"lith. degree, x\");"
   ]
  },
  {
   "cell_type": "markdown",
   "id": "ebb69ab6-2e9f-4cb2-add9-26787a8c8c3f",
   "metadata": {},
   "source": [
    "### 2.2 porosity"
   ]
  },
  {
   "cell_type": "code",
   "execution_count": null,
   "id": "9c816b6b-fd2a-41e7-a542-4fefd6a03959",
   "metadata": {},
   "outputs": [],
   "source": []
  }
 ],
 "metadata": {
  "kernelspec": {
   "display_name": "coffeshop",
   "language": "python",
   "name": "coffeshop"
  },
  "language_info": {
   "codemirror_mode": {
    "name": "ipython",
    "version": 3
   },
   "file_extension": ".py",
   "mimetype": "text/x-python",
   "name": "python",
   "nbconvert_exporter": "python",
   "pygments_lexer": "ipython3",
   "version": "3.9.4"
  }
 },
 "nbformat": 4,
 "nbformat_minor": 5
}
