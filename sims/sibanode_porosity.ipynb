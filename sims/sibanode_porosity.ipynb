{
 "cells": [
  {
   "cell_type": "markdown",
   "id": "instructional-examination",
   "metadata": {},
   "source": [
    "# Calculation of volume constraints for Si-composite anodes\n",
    "Carl Erik L. Foss, Jan Petter Maehlen, IFE, 2021\n",
    "\n",
    "Acknowledgements: Elkem and Research Council of Norway"
   ]
  },
  {
   "cell_type": "code",
   "execution_count": null,
   "id": "copyrighted-canyon",
   "metadata": {},
   "outputs": [],
   "source": [
    "# from IPython.display import display, Math, Latex\n",
    "import numpy as np\n",
    "import matplotlib.pyplot as plt\n",
    "%matplotlib inline"
   ]
  },
  {
   "cell_type": "code",
   "execution_count": null,
   "id": "entertaining-touch",
   "metadata": {},
   "outputs": [],
   "source": []
  },
  {
   "cell_type": "markdown",
   "id": "f9b37f7e-e1fb-4800-abd6-16a89964ce2e",
   "metadata": {},
   "source": [
    "<img src=\"SiliconExpansion_fig_001.png\">"
   ]
  },
  {
   "cell_type": "code",
   "execution_count": null,
   "id": "e8dda811-6975-4083-b594-53298edb4189",
   "metadata": {},
   "outputs": [],
   "source": []
  },
  {
   "cell_type": "markdown",
   "id": "18b4aa69-890c-45ce-9062-f15b113ba373",
   "metadata": {},
   "source": [
    "## Input"
   ]
  },
  {
   "cell_type": "markdown",
   "id": "58bf973c-c2fd-4d82-b9c0-92d76b6ed63f",
   "metadata": {},
   "source": [
    "## Physical prms"
   ]
  },
  {
   "cell_type": "code",
   "execution_count": null,
   "id": "df3bf4bc-6c7c-4e59-a668-37bf389f3e30",
   "metadata": {},
   "outputs": [],
   "source": [
    "# Needed input prms\n",
    "\n",
    "# expansion coeffs\n",
    "expansion_coeff_si       = 2.8 \n",
    "expansion_coeff_graphite = 0.1\n",
    "expansion_coeff_dead     = 0.0\n",
    "\n",
    "# densities\n",
    "rho_si = 2.329           # g/ccm\n",
    "rho_graphite = 2.1       # g/ccm\n",
    "rho_dead = 1.8           # g/ccm\n",
    "\n",
    "# max capacities\n",
    "maxcap_si = 3579.0       # mAh/g\n",
    "maxcap_graphite = 372.0  # mAh/g\n",
    "maxcap_dead = 0.0        # mAh/g\n"
   ]
  },
  {
   "cell_type": "code",
   "execution_count": null,
   "id": "c6665735-50e3-4fd5-b2c2-11f8b7430e1d",
   "metadata": {},
   "outputs": [],
   "source": [
    "mass_fraction_silicon  = 0.6\n",
    "mass_fraction_graphite = 0.3\n",
    "mass_fraction_dead     = 0.1\n",
    "\n",
    "radius = 0.5*1.5\n",
    "\n",
    "eps = 1.0  # allowed expansion coef for electrode (1.0 means no room available)\n",
    "\n",
    "# cut-off capacities\n",
    "max_cutoff_cap_si = 3579.0       # mAh/g\n",
    "max_cutoff_cap_graphite = 372.0  # mAh/g\n",
    "max_cutoff_cap_dead = 0.0        # mAh/g\n",
    "\n",
    "porosity = 0.5 # initial porosity\n",
    "porosity_limit = 0.0 # final limit for porosity"
   ]
  },
  {
   "cell_type": "code",
   "execution_count": null,
   "id": "19c3b8b4-2bda-4686-96b7-f39fffff5c0f",
   "metadata": {},
   "outputs": [],
   "source": [
    "def density_all(densities, mass_fractions, porosity = 0.0, debug=False):\n",
    "    # density of the combined composite\n",
    "    \n",
    "    total_mass = np.sum(mass_fractions)\n",
    "    \n",
    "    total_volume = 0.0\n",
    "    for d,m in zip(densities, mass_fractions):\n",
    "        if debug:\n",
    "            print(f\"density: {d}\\nfraction: {m}\")\n",
    "        total_volume += m/d\n",
    "    try:\n",
    "        total_volume = total_volume/(1-porosity)\n",
    "    except ZeroDivisionError:\n",
    "        print(\"ERROR! You have a porosity of 1.0 (meaning your electrode contains nothing)\")\n",
    "        return None\n",
    "    \n",
    "    density = total_mass/total_volume\n",
    "    #print \"Density: %f\" % (Density)\n",
    "    return density"
   ]
  },
  {
   "cell_type": "code",
   "execution_count": null,
   "id": "09d7a388-1be9-469c-862c-9421b6be0d29",
   "metadata": {},
   "outputs": [],
   "source": [
    "densities = [rho_si, rho_graphite, rho_dead]\n",
    "mfracs = [mass_fraction_silicon, mass_fraction_graphite, mass_fraction_dead]\n",
    "density_all(densities, mfracs, porosity = 0.0)"
   ]
  },
  {
   "cell_type": "code",
   "execution_count": null,
   "id": "0fbb17c8-5f32-48c8-a0ac-5c698299b56e",
   "metadata": {},
   "outputs": [],
   "source": [
    "mass_of_electrode = 2.23/1000  # g\n",
    "thickness_of_electrode = 12/10000 # cm\n",
    "area_of_electrode = 0.25 * np.pi * 1.5**2 # cm2 "
   ]
  },
  {
   "cell_type": "code",
   "execution_count": null,
   "id": "f69b9f6f-1a21-496d-bf95-845243791c1c",
   "metadata": {},
   "outputs": [],
   "source": [
    "def porosity_theoretical(mass, thickness, area, density):\n",
    "    volume_real = thickness * area\n",
    "    volume_calc = mass / density\n",
    "    porosity = 1 - (volume_calc/volume_real)\n",
    "    \n",
    "    return porosity"
   ]
  },
  {
   "cell_type": "code",
   "execution_count": null,
   "id": "0669bf14-8f52-48bd-9767-22995c77906c",
   "metadata": {},
   "outputs": [],
   "source": [
    "density = density_all(densities, mfracs, porosity = 0.0)\n",
    "porosity = porosity_theoretical(mass_of_electrode, thickness_of_electrode, area_of_electrode, density)"
   ]
  },
  {
   "cell_type": "code",
   "execution_count": null,
   "id": "d260fe9e-0efe-47ae-acd0-f9df1f0fbbf7",
   "metadata": {},
   "outputs": [],
   "source": [
    "print(porosity)"
   ]
  },
  {
   "cell_type": "code",
   "execution_count": null,
   "id": "96329ad3-f476-4f78-ba00-5c843730c28c",
   "metadata": {},
   "outputs": [],
   "source": [
    "# lithiation degree\n",
    "x = 1.0"
   ]
  },
  {
   "cell_type": "code",
   "execution_count": null,
   "id": "19a7b924-6a35-466f-b0e7-c41e8153aac6",
   "metadata": {},
   "outputs": [],
   "source": [
    "# new porosity\n",
    "# assuming linear expansion and lithiation degree up to x (x=1 is max)\n",
    "new_volume_si = expansion_coeff_si * x * volume_si\n",
    "\n",
    "\n"
   ]
  }
 ],
 "metadata": {
  "kernelspec": {
   "display_name": "coffeshop",
   "language": "python",
   "name": "coffeshop"
  },
  "language_info": {
   "codemirror_mode": {
    "name": "ipython",
    "version": 3
   },
   "file_extension": ".py",
   "mimetype": "text/x-python",
   "name": "python",
   "nbconvert_exporter": "python",
   "pygments_lexer": "ipython3",
   "version": "3.9.4"
  }
 },
 "nbformat": 4,
 "nbformat_minor": 5
}
