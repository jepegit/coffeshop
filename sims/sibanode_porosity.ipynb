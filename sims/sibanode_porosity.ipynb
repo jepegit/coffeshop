{
 "cells": [
  {
   "cell_type": "markdown",
   "id": "instructional-examination",
   "metadata": {},
   "source": [
    "# Calculation of volume constraints for Si-composite anodes\n",
    "Carl Erik L. Foss, Jan Petter Maehlen, IFE, 2021\n",
    "\n",
    "Acknowledgements: Elkem and Research Council of Norway"
   ]
  },
  {
   "cell_type": "code",
   "execution_count": null,
   "id": "copyrighted-canyon",
   "metadata": {},
   "outputs": [],
   "source": [
    "# from IPython.display import display, Math, Latex\n",
    "import numpy as np\n",
    "import matplotlib.pyplot as plt\n",
    "%matplotlib inline"
   ]
  },
  {
   "cell_type": "code",
   "execution_count": null,
   "id": "entertaining-touch",
   "metadata": {},
   "outputs": [],
   "source": []
  }
 ],
 "metadata": {
  "kernelspec": {
   "display_name": "coffeshop",
   "language": "python",
   "name": "coffeshop"
  },
  "language_info": {
   "codemirror_mode": {
    "name": "ipython",
    "version": 3
   },
   "file_extension": ".py",
   "mimetype": "text/x-python",
   "name": "python",
   "nbconvert_exporter": "python",
   "pygments_lexer": "ipython3",
   "version": "3.9.4"
  }
 },
 "nbformat": 4,
 "nbformat_minor": 5
}
